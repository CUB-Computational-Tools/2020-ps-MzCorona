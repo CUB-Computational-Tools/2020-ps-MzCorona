{
 "cells": [
  {
   "cell_type": "code",
   "execution_count": 1,
   "metadata": {},
   "outputs": [
    {
     "data": {
      "text/plain": [
       "R version 4.0.2 (2020-06-22)\n",
       "Platform: i386-w64-mingw32/i386 (32-bit)\n",
       "Running under: Windows 10 x64 (build 19041)\n",
       "\n",
       "Matrix products: default\n",
       "\n",
       "locale:\n",
       "[1] LC_COLLATE=English_United States.1252 \n",
       "[2] LC_CTYPE=English_United States.1252   \n",
       "[3] LC_MONETARY=English_United States.1252\n",
       "[4] LC_NUMERIC=C                          \n",
       "[5] LC_TIME=English_United States.1252    \n",
       "\n",
       "attached base packages:\n",
       "[1] stats     graphics  grDevices utils     datasets  methods   base     \n",
       "\n",
       "loaded via a namespace (and not attached):\n",
       " [1] compiler_4.0.2  ellipsis_0.3.1  IRdisplay_0.7.0 pbdZMQ_0.3-3   \n",
       " [5] tools_4.0.2     htmltools_0.5.0 pillar_1.4.6    base64enc_0.1-3\n",
       " [9] crayon_1.3.4    uuid_0.1-4      IRkernel_1.1.1  jsonlite_1.7.0 \n",
       "[13] digest_0.6.25   lifecycle_0.2.0 repr_1.1.0      rlang_0.4.7    \n",
       "[17] evaluate_0.14  "
      ]
     },
     "metadata": {},
     "output_type": "display_data"
    },
    {
     "data": {
      "text/html": [
       "'C:/Users/ccoro/GIT/ProblemSets/2020-ps-MzCorona'"
      ],
      "text/latex": [
       "'C:/Users/ccoro/GIT/ProblemSets/2020-ps-MzCorona'"
      ],
      "text/markdown": [
       "'C:/Users/ccoro/GIT/ProblemSets/2020-ps-MzCorona'"
      ],
      "text/plain": [
       "[1] \"C:/Users/ccoro/GIT/ProblemSets/2020-ps-MzCorona\""
      ]
     },
     "metadata": {},
     "output_type": "display_data"
    }
   ],
   "source": [
    "# R Program session info\n",
    "sessionInfo()\n",
    "\n",
    "# Know your current working directory\n",
    "getwd()"
   ]
  },
  {
   "cell_type": "markdown",
   "metadata": {},
   "source": [
    "# Week 5, Precipitation in Boulder, CO in R    \n",
    "\n",
    "\n",
    "### LEARNING GOALS\n",
    "\n",
    "After doing this exercise, you should be able to:\n",
    "\n",
    "- Give examples of different kinds of precipitation and recall the two that most often occur in the Boulder, CO area\n",
    "- Identify the months of the year that get the highest precipitation amounts on average, in Boulder, CO\n",
    "- Modify R dataframes\n",
    "- Create Bar Plots, in color! (oh my!)\n",
    "\n",
    "### PREREQUISITES\n",
    "\n",
    "- Know how to access a text/csv file in R\n",
    "\n",
    "\n",
    "## BACKGROUND\n",
    "\n",
    "> In the local weather news, every day we learn something new about what water vapor is up to in  the atmosphere -- we learn about rainfall, snowstorms, hail, drizzle, sleet, or if you live along the Front Range, all five in the same day. In meteorology and hydrology, these descriptions of water's condensation behavior from the atmosphere to the surface fit under the all-encompassing umbrella of precipitation (Pun absolutely intended).\n",
    "\n",
    "> To know how much precipitation to expect on any given day, scientists use various types of gauges to measure precipitation amounts. Some of the simplest devices were invented hundreds of years ago-- literally small cylinders with vertical ticks that denote some unit of length. Below is an image of a modern rain gauge, with some visiting rain!\n",
    "\n",
    "> Simple precipitation gauges are manually checked while fancier ones are automated."
   ]
  },
  {
   "cell_type": "markdown",
   "metadata": {},
   "source": [
    "![Rain_Gauge.jpg](Rain_Gauge.jpg)"
   ]
  },
  {
   "cell_type": "markdown",
   "metadata": {},
   "source": [
    "### Precipitation in the Boulder, CO Area\n",
    "\n",
    "- According to the National Oceanic and Atmospheric Administration (NOAA), the average annual precipitation (including rain, snow, etc) in Boulder, CO is ~ 20 inches. \n",
    "\n",
    "- The majority of precipitation falls in the __Winter__ (snow) or in the __Summer__ (rain).\n",
    "\n",
    "#### Which months have the highest precipitation, on average?\n",
    "Let's import some data to find out!\n",
    "\n",
    "### But first, a review: What is a dataframe in R?\n",
    "\n",
    "- In R, a __dataframe__ is a two-dimensional array-like structure that stores data. The data stored in a data frame can be numeric, factor or character type.\n",
    "\n",
    "- In a __dataframe__, the columns contain the \"variables\" of the dataset. The rows contain the observations \"obs\". Thas the variables of a data set as columns and the observations as rows.\n",
    "\n",
    "- A __dataframe__ differs from a matrix in that it can contain different data types, whereas a matrix can only contain one type of data.\n",
    "\n",
    "#### Let's import some data to see which months have the highest precipitation on average:"
   ]
  },
  {
   "cell_type": "code",
   "execution_count": 2,
   "metadata": {},
   "outputs": [
    {
     "name": "stdout",
     "output_type": "stream",
     "text": [
      "   Avg_Precip_IN\n",
      "1           0.70\n",
      "2           0.75\n",
      "3           1.85\n",
      "4           2.93\n",
      "5           3.05\n",
      "6           2.02\n",
      "7           1.93\n",
      "8           1.62\n",
      "9           1.84\n",
      "10          1.31\n",
      "11          1.39\n",
      "12          0.84\n",
      "'data.frame':\t12 obs. of  1 variable:\n",
      " $ Avg_Precip_IN: num  0.7 0.75 1.85 2.93 3.05 2.02 1.93 1.62 1.84 1.31 ...\n"
     ]
    }
   ],
   "source": [
    "# Read a txt file locaed in the data folder, named \"avg-mo-precip.txt\"\n",
    "avg_in_ppt <- read.delim(\"data/avg-monthly-precip-R.txt\")\n",
    "\n",
    "# Inspect the results. What do you see?\n",
    "print(avg_in_ppt)\n",
    "\n",
    "# Inspect the structure of this dataframe. What does it tell you?\n",
    "str(avg_in_ppt)"
   ]
  },
  {
   "cell_type": "markdown",
   "metadata": {},
   "source": [
    "Using `str()` we see that this dataframe has 1 column i.e. \"variable\" and 12 rows, i.e. \"obs.\".\n",
    "\n",
    "#### Let's add a column of months to the dataframe. We can use `cbind()`. "
   ]
  },
  {
   "cell_type": "code",
   "execution_count": 13,
   "metadata": {},
   "outputs": [
    {
     "name": "stdout",
     "output_type": "stream",
     "text": [
      "   Avg_Precip_IN Month\n",
      "1           0.70   Jan\n",
      "2           0.75   Feb\n",
      "3           1.85   Mar\n",
      "4           2.93   Apr\n",
      "5           3.05   May\n",
      "6           2.02   Jun\n",
      "7           1.93   Jul\n",
      "8           1.62   Aug\n",
      "9           1.84   Sep\n",
      "10          1.31   Oct\n",
      "11          1.39   Nov\n",
      "12          0.84   Dec\n",
      "'data.frame':\t12 obs. of  2 variables:\n",
      " $ Avg_Precip_IN: num  0.7 0.75 1.85 2.93 3.05 2.02 1.93 1.62 1.84 1.31 ...\n",
      " $ Month        : chr  \"Jan\" \"Feb\" \"Mar\" \"Apr\" ...\n"
     ]
    }
   ],
   "source": [
    "#Adding a column with 12 \"chr\" values to identify the months\n",
    "avg_mon_ppt = cbind(avg_in_ppt,Month=c(\n",
    "    \"Jan\", \"Feb\", \"Mar\", \"Apr\", \"May\", \"Jun\", \n",
    "    \"Jul\", \"Aug\", \"Sep\", \"Oct\", \"Nov\", \"Dec\" ))\n",
    "\n",
    "#Inspecting the results\n",
    "print(avg_mon_ppt)\n",
    "\n",
    "#Inspecting the structure\n",
    "str(avg_mon_ppt)"
   ]
  },
  {
   "cell_type": "markdown",
   "metadata": {},
   "source": [
    "__May and April seem to get the most rainfall.__\n",
    "\n",
    "### Scientists tend to work in the metric system. Let's convert our values from inches to centimeters. \n",
    "    \n",
    "    \n",
    "## Follow along with this example \n",
    "\n",
    "> 1) There are 2.54 cm in 1 inch. Create a new dataframe that has the product of the values in the text file `avg_in_precip`, multiplied by 2.54."
   ]
  },
  {
   "cell_type": "code",
   "execution_count": 14,
   "metadata": {},
   "outputs": [
    {
     "name": "stdout",
     "output_type": "stream",
     "text": [
      "   Avg_Precip_IN\n",
      "1         1.7780\n",
      "2         1.9050\n",
      "3         4.6990\n",
      "4         7.4422\n",
      "5         7.7470\n",
      "6         5.1308\n",
      "7         4.9022\n",
      "8         4.1148\n",
      "9         4.6736\n",
      "10        3.3274\n",
      "11        3.5306\n",
      "12        2.1336\n"
     ]
    }
   ],
   "source": [
    "avg_cm_ppt = (avg_in_ppt*2.54)\n",
    "print(avg_cm_ppt)"
   ]
  },
  {
   "cell_type": "markdown",
   "metadata": {},
   "source": [
    "__OOPS!__ The column name needs to be changed from \"IN\" to \"CM\". We'll use `colnames()`.\n",
    "\n",
    "> `colnames()` defines the column (header) names of a matrix or dataframe.\n",
    "\n",
    "> We are solely interested in renaming one column, we do this with __[ ] brackets.__"
   ]
  },
  {
   "cell_type": "code",
   "execution_count": 15,
   "metadata": {},
   "outputs": [
    {
     "name": "stdout",
     "output_type": "stream",
     "text": [
      "   Avg_Precip_CM\n",
      "1         1.7780\n",
      "2         1.9050\n",
      "3         4.6990\n",
      "4         7.4422\n",
      "5         7.7470\n",
      "6         5.1308\n",
      "7         4.9022\n",
      "8         4.1148\n",
      "9         4.6736\n",
      "10        3.3274\n",
      "11        3.5306\n",
      "12        2.1336\n"
     ]
    }
   ],
   "source": [
    "# colnames(df2)[1]  <- \"name\" This would rename the first column.\n",
    "colnames(avg_cm_ppt)[1]  <- \"Avg_Precip_CM\"\n",
    "print(avg_cm_ppt)"
   ]
  },
  {
   "cell_type": "code",
   "execution_count": 17,
   "metadata": {},
   "outputs": [
    {
     "name": "stdout",
     "output_type": "stream",
     "text": [
      "   Avg_Precip_IN Month Avg_Precip_CM\n",
      "1           0.70   Jan        1.7780\n",
      "2           0.75   Feb        1.9050\n",
      "3           1.85   Mar        4.6990\n",
      "4           2.93   Apr        7.4422\n",
      "5           3.05   May        7.7470\n",
      "6           2.02   Jun        5.1308\n",
      "7           1.93   Jul        4.9022\n",
      "8           1.62   Aug        4.1148\n",
      "9           1.84   Sep        4.6736\n",
      "10          1.31   Oct        3.3274\n",
      "11          1.39   Nov        3.5306\n",
      "12          0.84   Dec        2.1336\n"
     ]
    }
   ],
   "source": [
    "avg_monthly = cbind(avg_mon_ppt,avg_cm_ppt)\n",
    "print(avg_monthly)"
   ]
  },
  {
   "cell_type": "code",
   "execution_count": 19,
   "metadata": {},
   "outputs": [
    {
     "data": {
      "image/png": "[encoded data removed]",
      "text/plain": [
       "Plot with title \"Average Monthly Precipitation\""
      ]
     },
     "metadata": {
      "image/png": {
       "height": 420,
       "width": 420
      }
     },
     "output_type": "display_data"
    }
   ],
   "source": [
    "# Increase margin size\n",
    "par(mar=c(4,4,4,0))\n",
    "\n",
    "barplot(avg_monthly$Avg_Precip_CM, ylim=c(0,9), axes = FALSE, ann=FALSE, \n",
    "        space=c(0.035,0.035,0.035,0.035), col=\"blue\")\n",
    "\n",
    "# Make x axis using month labels\n",
    "axis(1, las=0, at=0.80:12.7,     \n",
    "    lab=c(\"Jan\", \"Feb\", \"Mar\", \"Apr\", \n",
    "           \"May\", \"Jun\", \"Jul\", \"Aug\", \n",
    "           \"Sep\", \"Oct\", \"Nov\", \"Dec\"), font.axis=2)\n",
    "\n",
    "# Make y axis with horizontal labels that display ticks at every 1 marks. \n",
    "# 1*0:8 is equivalent to c(0,1,2,3,etc).\n",
    "axis(2, las=2, at=1*0:9)\n",
    "\n",
    "# Create a title with a red, bold/italic font\n",
    "title(main=\"Average Monthly Precipitation\", col.main=\"black\", font.main=2)\n",
    "\n",
    "# Label the x and y axes with dark green text\n",
    "title(xlab=\"Month\", col.lab=rgb(0,0,0))\n",
    "title(ylab=\"Precipitation (cm)\", col.lab=rgb(0,0,0))\n",
    "\n",
    "# Create box around plot\n",
    "box()"
   ]
  },
  {
   "cell_type": "markdown",
   "metadata": {},
   "source": [
    "__Great!__\n",
    "\n",
    "It turns out though, that the data we have been plotting only takes into account the climatology from __1971 - 2000__. A lot has happened since the year 2000, let's plot the climatology ranging from __1971 - 2019__. Then we can compare if any changes in the average have occurred in the last 19 years. Before we dive into that, let's review: "
   ]
  },
  {
   "cell_type": "markdown",
   "metadata": {},
   "source": [
    "# Brief Review, ANSWER KEY \n",
    "\n",
    "#### Use what you learned to answer the following questions:\n",
    "\n",
    "__Q1)__ List five types of precipitation. Identify the two types of precipitation that are most common in the Boulder area.\n",
    "\n",
    "__ANSWER__\n",
    "> Snow, sleet, rain, hail, drizzle.\n",
    "> Snow and rain are the most common in the Boulder, CO area\n",
    "\n",
    "__Q2)__ According to the 1971 - 2000 climatology, which __three__ months receive the most precipitation?\n",
    "\n",
    "__ANSWER__\n",
    "> According to the climatology, April, May and June (June is just barely).\n"
   ]
  },
  {
   "cell_type": "markdown",
   "metadata": {},
   "source": [
    "## Practing your Skills\n",
    "\n",
    "#### For these next questions, follow the instructions below:\n",
    "\n",
    "- The csv file called `mo-precip-1971-2019-R.csv` contains a list of monthly averages per year (1971, 1972, etc), from 1971 - 2019. \n",
    "- Use `read.csv()` to import the csv file from the data folder.\n",
    "- Use the `str()` to identify its structure.\n",
    "\n",
    "__Q3)__ How many rows are there (\"obs.\")? Columns (\"variables\")? Number of years represented?\n"
   ]
  },
  {
   "cell_type": "code",
   "execution_count": 20,
   "metadata": {},
   "outputs": [
    {
     "name": "stdout",
     "output_type": "stream",
     "text": [
      "'data.frame':\t49 obs. of  12 variables:\n",
      " $ Jan: num  0.51 1.15 1.09 0.9 0.45 0.42 0.08 1.02 0.59 0.99 ...\n",
      " $ Feb: num  1.36 0.44 0.17 1.07 0.88 0.34 0.45 0.33 0.06 0.8 ...\n",
      " $ Mar: num  0.78 0.68 1.74 1.22 1.23 1.19 0.53 1.06 2.57 1.18 ...\n",
      " $ Apr: num  6.01 1.52 4.42 3.07 2.85 1.99 3.32 3.77 2.21 2.17 ...\n",
      " $ May: num  2 1.22 4.88 0 4.33 2.14 0.93 8.03 6.67 2.48 ...\n",
      " $ Jun: num  0.41 3.66 0.48 2.08 2.01 1.25 0.66 1.65 3.02 0.32 ...\n",
      " $ Jul: num  1.37 2.24 1.14 0.51 1.67 1.62 4.75 1.55 1.69 1.5 ...\n",
      " $ Aug: num  0.1 1.79 0.32 0.37 1.31 1.43 1.48 1.57 1.77 0.92 ...\n",
      " $ Sep: num  4.21 1.18 2.31 2.13 1.06 2.73 0.15 0.57 0.57 1.18 ...\n",
      " $ Oct: num  0.72 1.26 0.69 2.24 0.68 1.02 0.4 2.46 1.35 0.6 ...\n",
      " $ Nov: num  0.56 2.15 1.84 1.06 1.2 0.21 0.61 0.2 2 1.14 ...\n",
      " $ Dec: num  0.66 1.14 1.13 0.46 0.57 0.32 0.13 1.61 1.7 0.17 ...\n"
     ]
    }
   ],
   "source": [
    "# Read a csv file, named \"avg-mo-precip.txt\"\n",
    "ppt1971to2019 <- read.csv(\"data/mo-precip-1971-2019-R.csv\", \n",
    "                          header = TRUE, sep = \",\")\n",
    "\n",
    "# run the str() function on the data frame to see its structure, \n",
    "str(ppt1971to2019)"
   ]
  },
  {
   "cell_type": "markdown",
   "metadata": {},
   "source": [
    "__Q3)__ __ANSWER__ \n",
    "\n",
    "> There are 49 rows and 12 columns. \n",
    "\n",
    "> 49 years are represented (1971 - 2019)"
   ]
  },
  {
   "cell_type": "markdown",
   "metadata": {},
   "source": [
    "### Each column represents a month. \n",
    "\n",
    "> If we take the average of each column in the dataframe, the result will be the average rainfall per month, in inches, from 1971-2019."
   ]
  },
  {
   "cell_type": "code",
   "execution_count": 21,
   "metadata": {},
   "outputs": [
    {
     "data": {
      "text/html": [
       "<style>\n",
       ".dl-inline {width: auto; margin:0; padding: 0}\n",
       ".dl-inline>dt, .dl-inline>dd {float: none; width: auto; display: inline-block}\n",
       ".dl-inline>dt::after {content: \":\\0020\"; padding-right: .5ex}\n",
       ".dl-inline>dt:not(:first-of-type) {padding-left: .5ex}\n",
       "</style><dl class=dl-inline><dt>Jan</dt><dd>0.74</dd><dt>Feb</dt><dd>0.88</dd><dt>Mar</dt><dd>1.87</dd><dt>Apr</dt><dd>2.89</dd><dt>May</dt><dd>3.18</dd><dt>Jun</dt><dd>1.9</dd><dt>Jul</dt><dd>1.92</dd><dt>Aug</dt><dd>1.53</dd><dt>Sep</dt><dd>1.98</dd><dt>Oct</dt><dd>1.52</dd><dt>Nov</dt><dd>1.19</dd><dt>Dec</dt><dd>0.88</dd></dl>\n"
      ],
      "text/latex": [
       "\\begin{description*}\n",
       "\\item[Jan] 0.74\n",
       "\\item[Feb] 0.88\n",
       "\\item[Mar] 1.87\n",
       "\\item[Apr] 2.89\n",
       "\\item[May] 3.18\n",
       "\\item[Jun] 1.9\n",
       "\\item[Jul] 1.92\n",
       "\\item[Aug] 1.53\n",
       "\\item[Sep] 1.98\n",
       "\\item[Oct] 1.52\n",
       "\\item[Nov] 1.19\n",
       "\\item[Dec] 0.88\n",
       "\\end{description*}\n"
      ],
      "text/markdown": [
       "Jan\n",
       ":   0.74Feb\n",
       ":   0.88Mar\n",
       ":   1.87Apr\n",
       ":   2.89May\n",
       ":   3.18Jun\n",
       ":   1.9Jul\n",
       ":   1.92Aug\n",
       ":   1.53Sep\n",
       ":   1.98Oct\n",
       ":   1.52Nov\n",
       ":   1.19Dec\n",
       ":   0.88\n",
       "\n"
      ],
      "text/plain": [
       " Jan  Feb  Mar  Apr  May  Jun  Jul  Aug  Sep  Oct  Nov  Dec \n",
       "0.74 0.88 1.87 2.89 3.18 1.90 1.92 1.53 1.98 1.52 1.19 0.88 "
      ]
     },
     "metadata": {},
     "output_type": "display_data"
    }
   ],
   "source": [
    "avg_in <- round(colMeans(ppt1971to2019[,c(1:12)]),2)\n",
    "avg_in"
   ]
  },
  {
   "cell_type": "markdown",
   "metadata": {},
   "source": [
    "#### __Good!__\n",
    "Now that we have calculated the average values for the climatology series, 1971 - 2019, let's get to work! \n",
    "\n",
    "__Q4)__ Convert the new climatology series from inches to centimeters and make it a new dataframe. Round to two decimal places (see example above). Use `print()` to check."
   ]
  },
  {
   "cell_type": "code",
   "execution_count": 22,
   "metadata": {},
   "outputs": [
    {
     "name": "stdout",
     "output_type": "stream",
     "text": [
      " Jan  Feb  Mar  Apr  May  Jun  Jul  Aug  Sep  Oct  Nov  Dec \n",
      "1.88 2.24 4.75 7.34 8.08 4.83 4.88 3.89 5.03 3.86 3.02 2.24 \n"
     ]
    }
   ],
   "source": [
    "avg_cm = round((avg_in*2.54), 2)\n",
    "print(avg_cm)"
   ]
  },
  {
   "cell_type": "markdown",
   "metadata": {},
   "source": [
    "__5)__ Copy the \"FOR PLOTTING\" block of code from above into your code and update the x and y axes, labels and titles with the correct terms and units. *NOTE: We don't have to state the labels for the x-axis this time as they are incorporated in the table!\n",
    "\n",
    "> Do the months of April, May and June still have the highest average precipitation? If not, what has changed?"
   ]
  },
  {
   "cell_type": "code",
   "execution_count": 23,
   "metadata": {},
   "outputs": [
    {
     "data": {
      "image/png": "[encoded data removed]",
      "text/plain": [
       "Plot with title \"Average Monthly Precipitation\""
      ]
     },
     "metadata": {
      "image/png": {
       "height": 420,
       "width": 420
      }
     },
     "output_type": "display_data"
    }
   ],
   "source": [
    "################# QUESTION 5 ANSWER CODE ####################\n",
    "################# FOR PLOTTING ####################\n",
    "\n",
    "barplot(avg_cm, ylim=c(0,9), axes = FALSE, ann = FALSE, \n",
    "        space=c(0.1,0.1,0.1,0.1), col=\"forestgreen\")\n",
    "\n",
    "# Make y axis with horizontal labels that display ticks at every 1 marks. \n",
    "# 1*0:10 is equivalent to c(0,1,2,3,4, etc).\n",
    "axis(2, las=2, at=1*0:9)\n",
    "\n",
    "# Create a title with a red, bold/italic font\n",
    "title(main=\"Average Monthly Precipitation\", col.main=\"black\", font.main=2)\n",
    "\n",
    "# Label the x and y axes with dark green text\n",
    "title(xlab=\"Month\", col.lab=rgb(0,0,0))\n",
    "title(ylab=\"Precipitation (cm)\", col.lab=rgb(0,0,0))\n",
    "\n",
    "# Create box around plot\n",
    "box()"
   ]
  },
  {
   "cell_type": "markdown",
   "metadata": {},
   "source": [
    "__5)__ __ANSWER__ \n",
    "\n",
    "> April and May still have the highest average precipitation. \n",
    "\n",
    "> September has surpassed June for 3rd highest monthly average precipitation."
   ]
  },
  {
   "cell_type": "markdown",
   "metadata": {},
   "source": [
    "__BONUS KNOWLEDGE (the best, really):__ \n",
    "\n",
    "Let's do a plot v. plot comparison of the two climatologies. All you have to do here is run the code. "
   ]
  },
  {
   "cell_type": "code",
   "execution_count": 24,
   "metadata": {},
   "outputs": [
    {
     "data": {
      "image/png": "[encoded data removed]",
      "text/plain": [
       "Plot with title \"1971-2000 Climatology\""
      ]
     },
     "metadata": {
      "image/png": {
       "height": 420,
       "width": 420
      }
     },
     "output_type": "display_data"
    },
    {
     "data": {
      "image/png": "[encoded data removed]",
      "text/plain": [
       "Plot with title \"1971-2019 Climatology\""
      ]
     },
     "metadata": {
      "image/png": {
       "height": 420,
       "width": 420
      }
     },
     "output_type": "display_data"
    }
   ],
   "source": [
    "################# SIMPLY RUN THIS CODE ####################\n",
    "\n",
    "# Increase margin size\n",
    "par(mar=c(4,4,4,0))\n",
    "\n",
    "barplot(avg_monthly$Avg_Precip_CM, ylim=c(0,9), axes = FALSE, ann=FALSE, \n",
    "        space=c(0.035,0.035,0.035,0.035), col=\"blue\")\n",
    "\n",
    "# Make x axis using month labels\n",
    "axis(1, las=0, at=0.80:12.7,     \n",
    "    lab=c(\"Jan\", \"Feb\", \"Mar\", \"Apr\", \n",
    "           \"May\", \"Jun\", \"Jul\", \"Aug\", \n",
    "           \"Sep\", \"Oct\", \"Nov\", \"Dec\"), font.axis=2)\n",
    "\n",
    "# Make y axis with horizontal labels that display ticks at every 1 marks. \n",
    "# 1*0:9 is equivalent to c(0,1,2,3,etc).\n",
    "axis(2, las=2, at=1*0:9)\n",
    "\n",
    "# Create a title with a red, bold/italic font\n",
    "title(main=\"1971-2000 Climatology\", col.main=\"black\", font.main=2)\n",
    "\n",
    "# Label the x and y axes with dark green text\n",
    "title(xlab=\"Month\", col.lab=rgb(0,0,0))\n",
    "title(ylab=\"Precipitation (cm)\", col.lab=rgb(0,0,0))\n",
    "\n",
    "# Create box around plot\n",
    "box()\n",
    "\n",
    "##################################################\n",
    "# Increase margin size\n",
    "par(mar=c(4,4,4,0))\n",
    "\n",
    "barplot(avg_cm, ylim=c(0,9), axes = FALSE, ann = FALSE, \n",
    "        space=c(0.05,0.05,0.05,0.05), col=\"forestgreen\")\n",
    "\n",
    "# Make y axis with horizontal labels that display ticks at every 1 marks. \n",
    "# 1*0:10 is equivalent to c(0,1,2,3,4, etc).\n",
    "axis(2, las=2, at=1*0:9)\n",
    "\n",
    "# Create a title with a red, bold/italic font\n",
    "title(main=\"1971-2019 Climatology\", col.main=\"black\", font.main=2)\n",
    "\n",
    "# Label the x and y axes with dark green text\n",
    "title(xlab=\"Month\", col.lab=rgb(0,.0,0))\n",
    "title(ylab=\"Precipitation (cm)\", col.lab=rgb(0,0,0))\n",
    "\n",
    "# Create box around plot\n",
    "box()"
   ]
  },
  {
   "cell_type": "markdown",
   "metadata": {},
   "source": [
    "#### Does anything seem different when comparing the two plots?\n",
    "\n",
    "> The average precipitation from __Oct to Dec__ for both plots differs. In the __1971-2019__ plot, the precipitation seems to be __decreasing__ from October to December. That is certainly not the case in the 1971-2000 climatology.\n",
    "\n",
    "> It seems then like the last 19 years have influenced the average monthly precipitation rates. \n",
    "\n",
    "> Are there any other changes you spot? What do you think these changes might mean for the local environment? Especially in the late Fall/early Winter months?\n",
    "\n",
    "> The impacts that these changes have on our regional watersheds are certainly worth examining. But that'll be a lesson for another time. ^_^\n"
   ]
  },
  {
   "cell_type": "markdown",
   "metadata": {},
   "source": [
    "## Congrats! You passed the lesson with falling colors! \n",
    "\n",
    "![High_Five_Husky.jpg](High_Five_Husky.jpg)"
   ]
  },
  {
   "cell_type": "markdown",
   "metadata": {},
   "source": [
    "### References\n",
    "__Rain_Gauge_Image__ \n",
    "Four Season Tools. (2020). Link: https://www.smallfarmtools.com/-367 Accessed: 09/07/20.\n",
    "\n",
    "__Avg_Monthly_Precip_Data__ \n",
    "National Oceanic and Atmospheric Administration. Earth Systems Research Laboratories. (2020). Link: https://psl.noaa.gov/boulder/Boulder.mm.precip.html Accessed: 09/07/20.\n",
    "\n",
    "__Adding Columns to R DataFrame__ \n",
    "DataMentor (2020). R Data Frame. Link: https://www.datamentor.io/r-programming/data-frame/ Accessed: 09/26/20.\n",
    "\n",
    "__Graphs in R__ \n",
    "McCown, Frank. (2020). Producing Simple graphs with R. Link: https://sites.harding.edu/fmccown/r/ Accessed: 09/28/20\n",
    "\n",
    "__Axis Labels in R__ \n",
    "DataMentor (2020). Advanced R barplot customization. Link:https://www.r-graph-gallery.com/210-custom-barplot-layout.html Accessed: 09/28/20.\n",
    "\n",
    "__Multiple graphs in a Single Plot__ \n",
    "DataMentor (2020). R par() function. Link:https://www.datamentor.io/r-programming/subplot/ Accessed: 09/28/20.\n",
    "\n",
    "__High_Five_Husky__ \n",
    "Best Life. (2020). Link: https://bestlifeonline.com/adorable-puppy-pictures Accessed: 09/08/20."
   ]
  }
 ],
 "metadata": {
  "kernelspec": {
   "display_name": "R",
   "language": "R",
   "name": "ir"
  },
  "language_info": {
   "codemirror_mode": "r",
   "file_extension": ".r",
   "mimetype": "text/x-r-source",
   "name": "R",
   "pygments_lexer": "r",
   "version": "4.0.2"
  }
 },
 "nbformat": 4,
 "nbformat_minor": 4
}
