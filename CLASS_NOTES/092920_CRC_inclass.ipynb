{
 "cells": [
  {
   "cell_type": "markdown",
   "metadata": {},
   "source": [
    "# Classes and object-oriented programming\n",
    "\n",
    "*GEOL 5042 Computational Tools, fall 2020*"
   ]
  },
  {
   "cell_type": "markdown",
   "metadata": {},
   "source": [
    "## Overview\n",
    "\n",
    "- Object-oriented programming is distinct from *procedural* programming\n",
    "- Programs oriented around *objects*, which combine data and functions, rather than around functions and procedures.\n",
    "- Became popular with rise of GUIs.\n",
    "- Useful in scientific context for organizing data.\n",
    "- Used by many science-oriented libraries, e.g., numpy, scipy, matplotlib, pandas"
   ]
  },
  {
   "cell_type": "markdown",
   "metadata": {},
   "source": [
    "## Classes and Objects\n",
    "\n",
    "Python **class** declares a custom data *type*, much as **def** declares a function.\n",
    "\n",
    "Classes can have embedded data items, sometimes known as *data members* or *attributes*.\n",
    "\n",
    "Simple example: define a class of type `Dog` that has a single attribute, `fur_color`, with the string value `'brown'`:"
   ]
  },
  {
   "cell_type": "code",
   "execution_count": 7,
   "metadata": {},
   "outputs": [],
   "source": [
    "class Dog (): \n",
    "    breed = 'basenji'"
   ]
  },
  {
   "cell_type": "markdown",
   "metadata": {},
   "source": [
    "Here `Dog` is now a new data type. To create a new variable of that type, we use the same syntax we would use for calling a function, with the return being an **instance** of that class, also known as an **object**: "
   ]
  },
  {
   "cell_type": "code",
   "execution_count": 8,
   "metadata": {},
   "outputs": [],
   "source": [
    "Burbuja = Dog()"
   ]
  },
  {
   "cell_type": "markdown",
   "metadata": {},
   "source": [
    "Terminology: `fido` is an **object** that is an **instance** of class `Dog`.\n",
    "\n",
    "To access a *member* of an object, use the name of the object followed by a period and the name of the member (attribute or function):"
   ]
  },
  {
   "cell_type": "code",
   "execution_count": 9,
   "metadata": {},
   "outputs": [
    {
     "name": "stdout",
     "output_type": "stream",
     "text": [
      "basenji\n"
     ]
    }
   ],
   "source": [
    "print(Burbuja.breed)"
   ]
  },
  {
   "cell_type": "markdown",
   "metadata": {},
   "source": [
    "You have seen classes and objects before! Examples: pandas dataframes; matplotlib figure and axis objects.\n",
    "\n",
    "Try making a `Dog` class that has a second attribute called `breed`. Then *instantiate* a new `Dog` object and print its breed."
   ]
  },
  {
   "cell_type": "code",
   "execution_count": null,
   "metadata": {},
   "outputs": [],
   "source": []
  },
  {
   "cell_type": "markdown",
   "metadata": {},
   "source": [
    "## Member functions, a.k.a. *methods*\n",
    "\n",
    "A class can contain functions as well as data. Functions embedded in a class are often called *methods* or *member functions* (sometimes *method functions*).\n",
    "\n",
    "Here we'll make a `Dog` that sits down on command (more on the `self` parameter in a moment):"
   ]
  },
  {
   "cell_type": "code",
   "execution_count": 10,
   "metadata": {},
   "outputs": [
    {
     "name": "stdout",
     "output_type": "stream",
     "text": [
      "(sits up)\n"
     ]
    }
   ],
   "source": [
    "class Dog():\n",
    "    \n",
    "    fur_color = 'calico'\n",
    "    breed = 'basenji'\n",
    "    \n",
    "    def sit(self):\n",
    "        print('(sits up)')\n",
    "        \n",
    "Burbuja = Dog()\n",
    "Burbuja.sit()"
   ]
  },
  {
   "cell_type": "markdown",
   "metadata": {},
   "source": [
    "Try making a version of `Dog` that adds a `bark()` function:"
   ]
  },
  {
   "cell_type": "code",
   "execution_count": 13,
   "metadata": {},
   "outputs": [
    {
     "name": "stdout",
     "output_type": "stream",
     "text": [
      "(makes yummy yodels)\n"
     ]
    }
   ],
   "source": [
    "class Dog():\n",
    "    \n",
    "    fur_color = 'calico'\n",
    "    breed = 'basenji'\n",
    "    \n",
    "    def bark(self):\n",
    "        print('(makes yummy yodels)')\n",
    "        \n",
    "Burbuja = Dog()\n",
    "Burbuja.bark()"
   ]
  },
  {
   "cell_type": "markdown",
   "metadata": {},
   "source": [
    "## `self`\n",
    "\n",
    "Every member function takes at least one argument, normally called `self`, which is a reference to the object itself. We can use this to assign new attributes when an object is first created. Here's an example of using `self` to assign and change sitting vs. standing:"
   ]
  },
  {
   "cell_type": "code",
   "execution_count": 23,
   "metadata": {},
   "outputs": [
    {
     "name": "stdout",
     "output_type": "stream",
     "text": [
      "(sits up)\n",
      "standing\n",
      "(makes yummy yodels)\n",
      "standing\n",
      "make cookies\n"
     ]
    }
   ],
   "source": [
    "class Dog():\n",
    "    \n",
    "    fur_color = 'calico'\n",
    "    breed = 'basenji'\n",
    "    number_of_legs = 4\n",
    "    \n",
    "    def sit(self):\n",
    "        print('(sits up)')\n",
    "        self.position = 'standing'\n",
    "        \n",
    "    def bark(self):\n",
    "        print('(makes yummy yodels)')\n",
    "        \n",
    "    def bake(self):\n",
    "        self.position = 'make cookies'\n",
    "    \n",
    "    def chase(self):\n",
    "        self.position = 'squirrels!'\n",
    "\n",
    "Burbuja = Dog()\n",
    "\n",
    "Burbuja.sit()\n",
    "print(Burbuja.position)\n",
    "Burbuja.bark()\n",
    "print(Burbuja.position)\n",
    "Burbuja.bake()\n",
    "print(Burbuja.position)"
   ]
  },
  {
   "cell_type": "markdown",
   "metadata": {},
   "source": [
    "Try making a version of `Dog` that has a variable `self.tail`, which starts out as \"resting\", switches to \"wagging\" when you run the `wag()` method, and goes back to \"resting\" when you run the `sit()` method:"
   ]
  },
  {
   "cell_type": "code",
   "execution_count": 26,
   "metadata": {},
   "outputs": [
    {
     "name": "stdout",
     "output_type": "stream",
     "text": [
      "(wag tail)\n",
      "waiting\n"
     ]
    }
   ],
   "source": [
    "class Dog():\n",
    "    \n",
    "    fur_color = 'calico'\n",
    "    breed = 'basenji'\n",
    "    number_of_legs = 4\n",
    "    \n",
    "    def tail(self):\n",
    "        print('(wag tail)')\n",
    "        self.position = 'waiting'\n",
    "\n",
    "Burbuja = Dog()\n",
    "Burbuja.tail()\n",
    "print(Burbuja.position)"
   ]
  },
  {
   "cell_type": "markdown",
   "metadata": {},
   "source": [
    "## The constructor function: `__init__()`\n",
    "\n",
    "It's often helpful to do some setup right when a new object is created. For that we use a special named constructor function: `__init__()`. Example for `Dog()`:"
   ]
  },
  {
   "cell_type": "code",
   "execution_count": null,
   "metadata": {},
   "outputs": [],
   "source": []
  },
  {
   "cell_type": "markdown",
   "metadata": {},
   "source": [
    "So far, we hard-coded a couple of attributes, but it's often better to set these when an object is created.\n",
    "\n",
    "Here's an example of a `Dog` class in which we pass 'breed' as a parameter:"
   ]
  },
  {
   "cell_type": "code",
   "execution_count": null,
   "metadata": {},
   "outputs": [],
   "source": []
  },
  {
   "cell_type": "markdown",
   "metadata": {},
   "source": [
    "Try modifying this to do the same thing with `fur_color` and `name`:"
   ]
  },
  {
   "cell_type": "code",
   "execution_count": 28,
   "metadata": {},
   "outputs": [
    {
     "name": "stdout",
     "output_type": "stream",
     "text": [
      "Yay puppies!\n",
      "Burbuja\n",
      "calico\n"
     ]
    }
   ],
   "source": [
    "class Dog():\n",
    "    \n",
    "    def __init__(self, name, breed):\n",
    "        \n",
    "        self.name = name\n",
    "        self.fur_color = 'calico'\n",
    "        self.breed = breed\n",
    "        print(\"Yay puppies!\")\n",
    "        \n",
    "    def sit(self):\n",
    "        print('(sits down)')\n",
    "        self.position = 'sitting'\n",
    "    \n",
    "    def bake(self):\n",
    "        print('making cookies!')\n",
    "        \n",
    "    def get_up(self):\n",
    "        self.position = 'standing'\n",
    "        \n",
    "Burbuja = Dog('Burbuja', 'basenji')\n",
    "print(Burbuja.name)\n",
    "print(Burbuja.fur_color)"
   ]
  },
  {
   "cell_type": "markdown",
   "metadata": {},
   "source": [
    "## A more scientific example\n",
    "\n",
    "Make a `GravityCalculator` class that calculates weight and acceleration of an object, on a planet with a given mass and radius. Here are some specs:\n",
    "\n",
    "- The gravitational constant should be hard-coded (it's a university constant after all): $G = 6.673\\times 10^{-11}$ m$^3$/kg$\\cdot$s$^2$.\n",
    "- Pass the planet's mass and radius as parameters to your constructor, and store them as attributes using `self`.\n",
    "- In your constructor function, calculate and store gravitational acceleration: $G m_p / r^2$.\n",
    "- Have a `calc_weight` method that takes an object's mass and calculates the gravitational force: $F_g = G m_p m_o / r^2$ ($m_p$ is the mass of your planet, $m_o$ is the object's mass, and $r$ is the planetary radius).\n",
    "\n",
    "Test your class: for Earth, with a mass of $5.9722\\times 10^{24}$ kg and a radius of $6.372\\times 10^6$ m, you should get a familiar number for acceleration...\n",
    "\n",
    "Then test that a 5 kg bag of rice weights a little less than 50 Newtons."
   ]
  },
  {
   "cell_type": "code",
   "execution_count": null,
   "metadata": {},
   "outputs": [],
   "source": []
  },
  {
   "cell_type": "markdown",
   "metadata": {},
   "source": [
    "## Object-oriented scientific libraries\n",
    "\n",
    "Take a look at [this example in the numpy documentation](https://numpy.org/doc/stable/reference/generated/numpy.ndarray.html).\n",
    "\n",
    "- What's the name of the class described here?\n",
    "- How many required arguments does its constructor take? How many optional keyword arguments?\n",
    "- What is one example of an attribute of this class?\n",
    "- What is one example of a method of this class?\n",
    "\n",
    "Below, create an object of this class, print the value of one of its attributes, and run one of its methods:"
   ]
  },
  {
   "cell_type": "code",
   "execution_count": null,
   "metadata": {},
   "outputs": [],
   "source": []
  },
  {
   "cell_type": "markdown",
   "metadata": {},
   "source": [
    "## Inheritance\n",
    "\n",
    "Sometimes it's useful to have specialized types of classes, which have the properties of another more general class but add some extra capabilities of their own. Class **inheritance** provides a way to do this. Here's an example: a poodle is a type of dog, which is a type of mammal, which is a type of animal."
   ]
  },
  {
   "cell_type": "code",
   "execution_count": 6,
   "metadata": {},
   "outputs": [],
   "source": [
    "class Animal():\n",
    "    \n",
    "    def __init__(self, species, num_legs):\n",
    "        self.moves = True\n",
    "        self.species = species\n",
    "        self.num_legs = num_legs"
   ]
  },
  {
   "cell_type": "code",
   "execution_count": 8,
   "metadata": {},
   "outputs": [],
   "source": [
    "# A dog is a type of animal\n",
    "class Dog(Animal):\n",
    "    \n",
    "    def __init__(self, breed, name):\n",
    "        \n",
    "        self.breed = breed\n",
    "        self.name = name\n",
    "        \n",
    "        super().__init__(species='canus domesticus', num_legs=4)"
   ]
  },
  {
   "cell_type": "code",
   "execution_count": 9,
   "metadata": {},
   "outputs": [
    {
     "name": "stdout",
     "output_type": "stream",
     "text": [
      "fido\n",
      "True\n"
     ]
    }
   ],
   "source": [
    "fido = Dog(breed='poodle', name='fido')\n",
    "print(fido.name)\n",
    "print(fido.moves)"
   ]
  },
  {
   "cell_type": "markdown",
   "metadata": {},
   "source": [
    "When a sub-class has a method of the same name as one that exists in the base class (but does something different), we say that the sub-class method *overrides* the base-class method. We can use the `super()` function to call a base-class method that has been overridden. Example:"
   ]
  },
  {
   "cell_type": "code",
   "execution_count": null,
   "metadata": {},
   "outputs": [],
   "source": []
  },
  {
   "cell_type": "markdown",
   "metadata": {},
   "source": [
    "Try making an `EarthGravityCalculator` as a sub-class of `GravityCalculator`:"
   ]
  },
  {
   "cell_type": "code",
   "execution_count": null,
   "metadata": {},
   "outputs": [],
   "source": []
  }
 ],
 "metadata": {
  "kernelspec": {
   "display_name": "Python 3",
   "language": "python",
   "name": "python3"
  },
  "language_info": {
   "codemirror_mode": {
    "name": "ipython",
    "version": 3
   },
   "file_extension": ".py",
   "mimetype": "text/x-python",
   "name": "python",
   "nbconvert_exporter": "python",
   "pygments_lexer": "ipython3",
   "version": "3.7.6"
  }
 },
 "nbformat": 4,
 "nbformat_minor": 4
}
