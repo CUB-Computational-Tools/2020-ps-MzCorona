{
 "cells": [
  {
   "cell_type": "markdown",
   "metadata": {},
   "source": [
    "# $\\LaTeX$ Math\n",
    "\n",
    "This is just markdown that can include latex math.\n",
    "\n",
    "$$\n",
    "\\begin{align}\n",
    "\\dot{x} & = \\sigma(y-x) \\\\\n",
    "\\dot{y} & = \\rho x - y - xz \\\\\n",
    "\\dot{z} & = -\\beta z + xy\n",
    "\\end{align}\n",
    "$$"
   ]
  },
  {
   "cell_type": "markdown",
   "metadata": {},
   "source": [
    "# System Info\n"
   ]
  },
  {
   "cell_type": "code",
   "execution_count": 5,
   "metadata": {},
   "outputs": [
    {
     "data": {
      "text/plain": [
       "R version 4.0.2 (2020-06-22)\n",
       "Platform: i386-w64-mingw32/i386 (32-bit)\n",
       "Running under: Windows 10 x64 (build 19041)\n",
       "\n",
       "Matrix products: default\n",
       "\n",
       "locale:\n",
       "[1] LC_COLLATE=English_United States.1252 \n",
       "[2] LC_CTYPE=English_United States.1252   \n",
       "[3] LC_MONETARY=English_United States.1252\n",
       "[4] LC_NUMERIC=C                          \n",
       "[5] LC_TIME=English_United States.1252    \n",
       "\n",
       "attached base packages:\n",
       "[1] stats     graphics  grDevices utils     datasets  methods   base     \n",
       "\n",
       "other attached packages:\n",
       "[1] ggplot2_3.3.2 dplyr_1.0.2  \n",
       "\n",
       "loaded via a namespace (and not attached):\n",
       " [1] magrittr_1.5     munsell_0.5.0    tidyselect_1.1.0 uuid_0.1-4      \n",
       " [5] colorspace_1.4-1 R6_2.4.1         rlang_0.4.7      tools_4.0.2     \n",
       " [9] grid_4.0.2       gtable_0.3.0     withr_2.2.0      htmltools_0.5.0 \n",
       "[13] ellipsis_0.3.1   digest_0.6.25    tibble_3.0.3     lifecycle_0.2.0 \n",
       "[17] crayon_1.3.4     IRdisplay_0.7.0  farver_2.0.3     purrr_0.3.4     \n",
       "[21] repr_1.1.0       base64enc_0.1-3  vctrs_0.3.2      IRkernel_1.1.1  \n",
       "[25] glue_1.4.1       evaluate_0.14    labeling_0.3     pbdZMQ_0.3-3    \n",
       "[29] compiler_4.0.2   pillar_1.4.6     scales_1.1.1     generics_0.0.2  \n",
       "[33] jsonlite_1.7.0   pkgconfig_2.0.3 "
      ]
     },
     "metadata": {},
     "output_type": "display_data"
    }
   ],
   "source": [
    "# session info\n",
    "sessionInfo()"
   ]
  },
  {
   "cell_type": "markdown",
   "metadata": {},
   "source": [
    "# Custom Function\n"
   ]
  },
  {
   "cell_type": "code",
   "execution_count": 6,
   "metadata": {},
   "outputs": [
    {
     "data": {
      "text/html": [
       "7"
      ],
      "text/latex": [
       "7"
      ],
      "text/markdown": [
       "7"
      ],
      "text/plain": [
       "[1] 7"
      ]
     },
     "metadata": {},
     "output_type": "display_data"
    }
   ],
   "source": [
    "# custom function from scripts/functions.R\n",
    "source(file.path(\"scripts\", \"functions.R\"))\n",
    "test_add(2,5)"
   ]
  },
  {
   "cell_type": "markdown",
   "metadata": {},
   "source": [
    "# Data"
   ]
  },
  {
   "cell_type": "code",
   "execution_count": 3,
   "metadata": {},
   "outputs": [
    {
     "name": "stderr",
     "output_type": "stream",
     "text": [
      "\n",
      "Attaching package: 'dplyr'\n",
      "\n",
      "\n",
      "The following objects are masked from 'package:stats':\n",
      "\n",
      "    filter, lag\n",
      "\n",
      "\n",
      "The following objects are masked from 'package:base':\n",
      "\n",
      "    intersect, setdiff, setequal, union\n",
      "\n",
      "\n"
     ]
    },
    {
     "data": {
      "text/html": [
       "<table>\n",
       "<caption>A tibble: 10 × 2</caption>\n",
       "<thead>\n",
       "\t<tr><th scope=col>t</th><th scope=col>y</th></tr>\n",
       "\t<tr><th scope=col>&lt;dbl&gt;</th><th scope=col>&lt;dbl&gt;</th></tr>\n",
       "</thead>\n",
       "<tbody>\n",
       "\t<tr><td>0.00</td><td>1.000000</td></tr>\n",
       "\t<tr><td>0.01</td><td>1.062791</td></tr>\n",
       "\t<tr><td>0.02</td><td>1.125333</td></tr>\n",
       "\t<tr><td>0.03</td><td>1.187381</td></tr>\n",
       "\t<tr><td>0.04</td><td>1.248690</td></tr>\n",
       "\t<tr><td>0.05</td><td>1.309017</td></tr>\n",
       "\t<tr><td>0.06</td><td>1.368125</td></tr>\n",
       "\t<tr><td>0.07</td><td>1.425779</td></tr>\n",
       "\t<tr><td>0.08</td><td>1.481754</td></tr>\n",
       "\t<tr><td>0.09</td><td>1.535827</td></tr>\n",
       "</tbody>\n",
       "</table>\n"
      ],
      "text/latex": [
       "A tibble: 10 × 2\n",
       "\\begin{tabular}{ll}\n",
       " t & y\\\\\n",
       " <dbl> & <dbl>\\\\\n",
       "\\hline\n",
       "\t 0.00 & 1.000000\\\\\n",
       "\t 0.01 & 1.062791\\\\\n",
       "\t 0.02 & 1.125333\\\\\n",
       "\t 0.03 & 1.187381\\\\\n",
       "\t 0.04 & 1.248690\\\\\n",
       "\t 0.05 & 1.309017\\\\\n",
       "\t 0.06 & 1.368125\\\\\n",
       "\t 0.07 & 1.425779\\\\\n",
       "\t 0.08 & 1.481754\\\\\n",
       "\t 0.09 & 1.535827\\\\\n",
       "\\end{tabular}\n"
      ],
      "text/markdown": [
       "\n",
       "A tibble: 10 × 2\n",
       "\n",
       "| t &lt;dbl&gt; | y &lt;dbl&gt; |\n",
       "|---|---|\n",
       "| 0.00 | 1.000000 |\n",
       "| 0.01 | 1.062791 |\n",
       "| 0.02 | 1.125333 |\n",
       "| 0.03 | 1.187381 |\n",
       "| 0.04 | 1.248690 |\n",
       "| 0.05 | 1.309017 |\n",
       "| 0.06 | 1.368125 |\n",
       "| 0.07 | 1.425779 |\n",
       "| 0.08 | 1.481754 |\n",
       "| 0.09 | 1.535827 |\n",
       "\n"
      ],
      "text/plain": [
       "   t    y       \n",
       "1  0.00 1.000000\n",
       "2  0.01 1.062791\n",
       "3  0.02 1.125333\n",
       "4  0.03 1.187381\n",
       "5  0.04 1.248690\n",
       "6  0.05 1.309017\n",
       "7  0.06 1.368125\n",
       "8  0.07 1.425779\n",
       "9  0.08 1.481754\n",
       "10 0.09 1.535827"
      ]
     },
     "metadata": {},
     "output_type": "display_data"
    }
   ],
   "source": [
    "# create dataset using dplyr\n",
    "library(dplyr)\n",
    "curve <- \n",
    "  tibble(\n",
    "    t = seq(0, 2, by = 0.01),\n",
    "    y = 1 + sin(2 * pi * t)\n",
    "  ) \n",
    "curve[1:10, ] # first 10 rows"
   ]
  },
  {
   "cell_type": "markdown",
   "metadata": {},
   "source": [
    "# Plot"
   ]
  },
  {
   "cell_type": "code",
   "execution_count": 4,
   "metadata": {},
   "outputs": [
    {
     "data": {
      "image/png": "[encoded data removed]",
      "text/plain": [
       "plot without title"
      ]
     },
     "metadata": {
      "image/png": {
       "height": 360,
       "width": 480
      }
     },
     "output_type": "display_data"
    }
   ],
   "source": [
    "# plot using ggplot\n",
    "library(ggplot2)\n",
    "options(repr.plot.width = 8, repr.plot.height = 6)\n",
    "curve %>% \n",
    "  ggplot() + \n",
    "  aes(t, y) +\n",
    "  geom_line()"
   ]
  },
  {
   "cell_type": "code",
   "execution_count": null,
   "metadata": {},
   "outputs": [],
   "source": []
  }
 ],
 "metadata": {
  "kernelspec": {
   "display_name": "R",
   "language": "R",
   "name": "ir"
  },
  "language_info": {
   "codemirror_mode": "r",
   "file_extension": ".r",
   "mimetype": "text/x-r-source",
   "name": "R",
   "pygments_lexer": "r",
   "version": "4.0.2"
  }
 },
 "nbformat": 4,
 "nbformat_minor": 4
}
