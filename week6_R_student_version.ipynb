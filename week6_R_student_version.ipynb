{
 "cells": [
  {
   "cell_type": "code",
   "execution_count": 1,
   "metadata": {},
   "outputs": [
    {
     "data": {
      "text/plain": [
       "R version 4.0.2 (2020-06-22)\n",
       "Platform: i386-w64-mingw32/i386 (32-bit)\n",
       "Running under: Windows 10 x64 (build 19041)\n",
       "\n",
       "Matrix products: default\n",
       "\n",
       "locale:\n",
       "[1] LC_COLLATE=English_United States.1252 \n",
       "[2] LC_CTYPE=English_United States.1252   \n",
       "[3] LC_MONETARY=English_United States.1252\n",
       "[4] LC_NUMERIC=C                          \n",
       "[5] LC_TIME=English_United States.1252    \n",
       "\n",
       "attached base packages:\n",
       "[1] stats     graphics  grDevices utils     datasets  methods   base     \n",
       "\n",
       "loaded via a namespace (and not attached):\n",
       " [1] compiler_4.0.2  ellipsis_0.3.1  IRdisplay_0.7.0 pbdZMQ_0.3-3   \n",
       " [5] tools_4.0.2     htmltools_0.5.0 pillar_1.4.6    base64enc_0.1-3\n",
       " [9] crayon_1.3.4    uuid_0.1-4      IRkernel_1.1.1  jsonlite_1.7.0 \n",
       "[13] digest_0.6.25   lifecycle_0.2.0 repr_1.1.0      rlang_0.4.7    \n",
       "[17] evaluate_0.14  "
      ]
     },
     "metadata": {},
     "output_type": "display_data"
    },
    {
     "data": {
      "text/html": [
       "'C:/Users/ccoro/GIT/ProblemSets/2020-ps-MzCorona'"
      ],
      "text/latex": [
       "'C:/Users/ccoro/GIT/ProblemSets/2020-ps-MzCorona'"
      ],
      "text/markdown": [
       "'C:/Users/ccoro/GIT/ProblemSets/2020-ps-MzCorona'"
      ],
      "text/plain": [
       "[1] \"C:/Users/ccoro/GIT/ProblemSets/2020-ps-MzCorona\""
      ]
     },
     "metadata": {},
     "output_type": "display_data"
    }
   ],
   "source": [
    "# R Program session info\n",
    "sessionInfo()\n",
    "\n",
    "# Know your current working directory\n",
    "getwd()"
   ]
  },
  {
   "cell_type": "markdown",
   "metadata": {},
   "source": [
    "# Week 6, Introduction to Soil Moisture Storage with R\n",
    "\n",
    "\n",
    "#### SETTING THE STAGE\n",
    "During the __week 3 lesson__ we learned that precipitation that falls to the ground may infiltrate the surface and flow downward through the unsaturated zone until eventually reaching the water table __(figure below).__ Extreme precipitation events can reach the water table very quickly, causing the water table to rise and usually recharging aquifers. \n",
    "\n",
    "More often than not however, water travels very slowly downward through the unsaturated zone. Depending on the local hydrogeology, _water can remain in the unsaturated zone for hundreds to tens of thousands of years_ before reaching the water table! \n",
    "\n",
    "In this week's lesson, we will learn about what water that is stored in the unsaturated zone is called and how it can change with time and precipitation patterns.\n",
    "\n",
    "\n",
    "### LEARNING GOALS\n",
    "\n",
    "After doing this exercise, you should be able to:\n",
    "\n",
    "- Describe what can happen to pore spaces in the unsaturated zone during heavy rainfall vs. prolonged dry periods.\n",
    "- Define soil water storage.\n",
    "\n",
    "- Define the purpose of a `function` such that you can create your own.\n",
    "- Demonstrate plotting of four lines on a R plot. Oh my!\n",
    "\n",
    "\n",
    "### PREREQUISITES\n",
    "\n",
    "Before doing this exercise, you should know/review:\n",
    "\n",
    "Basic Hydrology\n",
    "- The difference between the unsaturated (vadose) zone and saturated zone.\n",
    "- The difference between varying soil textures such as clay, silt, loam, sand.\n",
    "- Water Year (WY), example: October 1st, 2000 - September 30th, 2001 represents WY2001. \n",
    "\n",
    "Beginner Programming Skills\n",
    "- How to comment and uncomment code for use.\n",
    "- Refreshing the kernel, running code from the top of the page.\n",
    "- Know how to access text and csv files for use.\n",
    "- Know how to plot one line.\n",
    "\n",
    "\n",
    "### BACKGROUND"
   ]
  },
  {
   "cell_type": "markdown",
   "metadata": {},
   "source": [
    "![Subsurface_Profile.PNG](Subsurface_Profile.PNG)"
   ]
  },
  {
   "cell_type": "markdown",
   "metadata": {},
   "source": [
    "The unsaturated zone is an overlooked, but important reservoir for storing water. In the unsaturated zone, the open spaces between soil grains (see figure below) are occupied by water and air. The proportion of water and air in these soil pore spaces varies temporally, spatially and by the local soil type.\n",
    "\n",
    "After a large rain event, pore spaces in the unsaturated zone may rapidly filled with more water, thereby decreasing the air-filled pore spaces.\n",
    "\n",
    "During prolonged periods of dry conditions, more air may enter the pore spaces due to water in the soil being lost to soil evaporation and plant transpiration of deep roots.\n",
    "\n",
    "The amount of water stored in soil is dynamic: it can vary temporally and spatially in response to changes in climate, land-use and soil properties. Scientists studying this important reservoir refer to the amount of water stored in the soil as soil water storage (SWS). See the figure below."
   ]
  },
  {
   "cell_type": "markdown",
   "metadata": {},
   "source": [
    "![Soil_Water_Storage.png](Soil_Water_Storage.png)"
   ]
  },
  {
   "cell_type": "markdown",
   "metadata": {},
   "source": [
    "The agricultural industry and irrigation managers use field equipment like soil moisture probes to monitor the soil water storage down to a meter depth. This is the preferred depth for monitoring changes as a result of root zone processes for agricultural production. Agricultural practices have greatly improved over the last few decades thanks in part to scientists studying the mechanisms that affect soil water storage.\n",
    "\n",
    "Subsurface hydrologists may also be interested in studying soil water storage, but the interest lies far deeper, ranging from several more meters to hundreds, depending on the depth to the water table. It is difficult to study soil water storage past the first meter of soil without digging expensive giant holes into the ground-- it is not cost-effective. For this and many other reasons, subsurface hydrologists employ computer subsurface flow models to study what soil water storage may look like at varying depths. \n",
    "\n",
    "#### We will be working with model output of soil water storage for water years (WY) 2013, 2014, 2016 and 2017. \n",
    "\n",
    "- The output is from a computer program that simulates the vertical downward movement of water in a one-dimensional space. The volume will also be one-dimensional (meters)\n",
    "\n",
    "## Let's plot the soil water storage (SWS) for WY 2013 and 2017:\n",
    "This example will help answer the questions at the end of the lesson.\n",
    "\n",
    "#### Follow the steps below:\n",
    "> 1) Navigate to the data folder and import the files `WY2013-R.csv` and `WY2017-R.csv` as dataframes."
   ]
  },
  {
   "cell_type": "code",
   "execution_count": null,
   "metadata": {},
   "outputs": [],
   "source": [
    "####### No need to make changes to this, SIMPLY RUN THIS CODE #######\n",
    "\n",
    "# Read the csv files and import as dataframes\n",
    "WY2013 <- read.csv(\"data/WY2013-R.csv\", \n",
    "                          header = TRUE, sep = \",\")\n",
    "\n",
    "WY2017 <- read.csv(\"data/WY2017-R.csv\", \n",
    "                          header = TRUE, sep = \",\")\n",
    "\n",
    "# run the str() function on the data frame to see its structure\n",
    "str(WY2013)\n",
    "str(WY2017)"
   ]
  },
  {
   "cell_type": "markdown",
   "metadata": {},
   "source": [
    "Notice the dimensions show two columns, __DAY__ and __VOLUME__ and __365 rows__, one per day. \n",
    "> 2) Let's plot the __WY2013 and WY2017 data__."
   ]
  },
  {
   "cell_type": "code",
   "execution_count": null,
   "metadata": {},
   "outputs": [],
   "source": [
    "####### No need to make changes to this, SIMPLY RUN THIS CODE #######\n",
    "####### FOR PLOTTING #######\n",
    "# plot the first curve by calling plot() function\n",
    "\n",
    "# First curve is plotted\n",
    "plot(WY2013, \n",
    "     type=\"b\" , \n",
    "     bty=\"l\" , \n",
    "     xlab=\"OCTOBER 1ST - SEPTEMBER 30TH (DAYS)\" , \n",
    "     ylab=\"SOIL WATER STORAGE (M)\" , \n",
    "     col=rgb(0.2,0.4,0.1,0.7) , \n",
    "     lwd=3 , pch=17, ylim=c(6.515,6.59) )\n",
    "\n",
    "# Add second curve to the same plot by calling lines()\n",
    "lines(WY2017 , \n",
    "      col=\"brown\" , \n",
    "      lwd=3 , pch=19 , type=\"b\" )\n",
    "\n",
    "abline(h=seq(0,6.59,0.01) , col=\"grey\", lwd=0.8)\n",
    "\n",
    "# add a title and subtitle\n",
    "title(\"Soil Water Storage Changes during a Water Year\")\n",
    "\n",
    "# Add a legend\n",
    "legend(\"topleft\", \n",
    "  legend = c(\"WY2013\", \"WY2017\"), \n",
    "  col = c(rgb(0.2,0.4,0.1,0.7), \n",
    "  rgb(0.8,0.4,0.1,0.7)), \n",
    "  pch = c(17,19), \n",
    "  bty = \"n\", \n",
    "  pt.cex = 2, \n",
    "  cex = 1.2, \n",
    "  text.col = \"black\", \n",
    "  horiz = F , \n",
    "  inset = c(0.1, 0.1))"
   ]
  },
  {
   "cell_type": "markdown",
   "metadata": {},
   "source": [
    "#### The y-axis denotes the volume of water in the soil, i.e. the soil water storage (m). \n",
    "\n",
    "- Soil water storage (SWS) is the amount (volume) of water held in a unit volume of soil at any given time. In three-dimensions, this volume would be something like cubic meters, m<sup>3</sup>. However because the results are from a one-dimensional model, so is the volume.\n",
    "\n",
    "- SWS is affected by the local soil hydraulic properties, the amount of water infiltrating the soil, and time.\n",
    "\n",
    "- The model calculates SWS with the following equation:\n",
    "\n",
    "> __Soil Water Storage (m) = Volumetric Water Content (dimensionless) × Water Table Depth (m)__\n",
    "\n",
    "### Example problem:\n",
    "The model results for WY2017 show that at 100 days (sometime in January), the soil water storage value is 6.53 m and the water table depth is around 9.27 m (not shown). Given these two values, __what is the volumetric water content, as a percentage,__ of the unsaturated soil on this day?\n",
    "\n",
    "> __Soil Water Storage (m) = Volumetric Water Content × Water Table Depth (m)__\n",
    "\n",
    "> 6.53 m (one-dimensional volume) = Volumetric Water Content × 9.27 m\n",
    "\n",
    "> 68% = Volumetric Water Content of the unsaturated soil profile on this day\n",
    "\n",
    "> In words, the volume of water makes up 68% of the volume of soil in which it is contained, at 100 days. As a reference and in contrast, the three SWS peaks for WY2013 indicated an increase in the volume of water up to 87% of the total volume of soi!"
   ]
  },
  {
   "cell_type": "markdown",
   "metadata": {},
   "source": [
    "## Consider the three SWS peaks for WY2013 over 6.55 m. In what months did these peaks occur?\n",
    "\n",
    "Let's create a function to find out. \n",
    "\n",
    "In R, `functions` are used to logically break our code into simpler parts. Breaking up the code is supposed to make it easier to maintain, understand and view for errors.\n",
    "\n",
    "### Syntax for Writing Functions in R\n",
    "\n",
    "> `name_yo_function` <- __`function`__ `(argument)`\n",
    "\n",
    ">  `{`   `the_statement you wish the function to make`  `}`\n",
    "\n",
    "- The word `function` is used to declare a `function` in R.\n",
    "- The `argument` within the parentheses, `()` is optional.\n",
    "- The statements within the curly braces, `{}`form the __body of the function__. IF the body contains only one expression, these braces are also optional.\n",
    "- We give this `function` object a name by assigning it a `variable` that we call `name_yo_function`. "
   ]
  },
  {
   "cell_type": "code",
   "execution_count": null,
   "metadata": {},
   "outputs": [],
   "source": [
    "## Example of a function, run this code!\n",
    "i_have_a_question <- function()\n",
    "    print(\"Hello, is it Friday yet??\")\n",
    "\n",
    "i_have_a_question"
   ]
  },
  {
   "cell_type": "markdown",
   "metadata": {},
   "source": [
    "Below, we created a `function` called `who_is_cool()`.\n",
    "\n",
    "- It takes an argument `pronoun`. Then it prints the result in appropriate format.\n",
    "\n",
    "- To print the result we want, we use a built-in R function `paste()` which is used to concatenate strings.\n",
    "\n",
    "- We then call the function `who is cool()` with the actual arguments \"You\", \"We\" and \"Cats\".\n",
    "\n",
    "- This is how we find out who is cool. Functions don't lie! They take things literally."
   ]
  },
  {
   "cell_type": "code",
   "execution_count": null,
   "metadata": {},
   "outputs": [],
   "source": [
    "who_is_cool <- function(pronoun)\n",
    "    {\n",
    "    print(paste(pronoun,\"are cool\"))\n",
    "    }\n",
    "\n",
    "who_is_cool(\"You\")\n",
    "who_is_cool(\"We\")\n",
    "who_is_cool(\"Cats\")"
   ]
  },
  {
   "cell_type": "markdown",
   "metadata": {},
   "source": [
    "### To figure out when the three SWS peaks are, we are going to create a function:\n",
    "Be sure to UPDATE the value in the parentheses at the BOTTOM of the code with the value of interest. \n",
    "\n",
    "HINT: The `WY2013` peaks in SWS that we are interested in identifying are (225), (290), and (350)."
   ]
  },
  {
   "cell_type": "code",
   "execution_count": null,
   "metadata": {},
   "outputs": [],
   "source": [
    "####### Update the last line with the day ### you are interested in. Then RUN THIS CODE #######\n",
    "\n",
    "which.month <- function(x) {\n",
    "if (x<31) {\n",
    "return(\"October\")\n",
    "}\n",
    "else if (x<61) {\n",
    "return(\"November\")\n",
    "}\n",
    "else if (x<92) {\n",
    "return(\"December\")\n",
    "}\n",
    "else if (x<123) {\n",
    "return(\"January\")\n",
    "}\n",
    "else if (x<151) {\n",
    "return(\"February\")\n",
    "}\n",
    "else if (x<182) {\n",
    "return(\"March\")\n",
    "}\n",
    "else if (x<212) {\n",
    "return(\"April\")\n",
    "}    \n",
    "else if (x<243) {\n",
    "return(\"May\")\n",
    "}\n",
    "else if (x<273) {\n",
    "return(\"June\")\n",
    "}\n",
    "else if (x<304) {\n",
    "return(\"July\")\n",
    "}\n",
    "else if (x<335) {\n",
    "return(\"August\")\n",
    "}  \n",
    "else if (x<365) {\n",
    "return(\"September\")\n",
    "}\n",
    "else {\n",
    "return(\"Uh-oh! You must be thinking of the days on another planet!\")\n",
    "}\n",
    "}\n",
    "\n",
    "#Update the value in the parantheses below with the value of interest\n",
    "print(which.month(10))"
   ]
  },
  {
   "cell_type": "markdown",
   "metadata": {},
   "source": [
    "The months that correspond to the WY2013 peaks in SWS are May (225), July (290), and September (350).\n",
    "\n",
    "#### Okay, now it's time to review and practice what you learned:"
   ]
  },
  {
   "cell_type": "markdown",
   "metadata": {},
   "source": [
    "# Use what you learned to answer the following questions: \n",
    "\n",
    "#### __Q1)__ What happens to pore spaces in the unsaturated zone during heavy rainfall? How is soil water storage affected? "
   ]
  },
  {
   "cell_type": "markdown",
   "metadata": {},
   "source": [
    "INSERT ANSWER "
   ]
  },
  {
   "cell_type": "markdown",
   "metadata": {},
   "source": [
    "#### __Q2)__  What is soil water storage? Which industry benefits from understanding this concept?"
   ]
  },
  {
   "cell_type": "markdown",
   "metadata": {},
   "source": [
    "INSERT ANSWER"
   ]
  },
  {
   "cell_type": "markdown",
   "metadata": {},
   "source": [
    "#### __Q3)__  Revisit the first function example from above `i_have_a_question`. Use it to create your own function letting me know if it is Friday yet. Type it below, make sure it prints out your answer."
   ]
  },
  {
   "cell_type": "code",
   "execution_count": null,
   "metadata": {},
   "outputs": [],
   "source": [
    "# INSERT Q3 ANSWER BELOW\n",
    "\n",
    "YOUR_FUNCTION_NAME <- function()\n",
    "    print(\"INSERT YOUR ANSWER\")\n",
    "\n",
    "YOUR_FUNCTION_NAME"
   ]
  },
  {
   "cell_type": "markdown",
   "metadata": {},
   "source": [
    "## Practing your Skills, ANSWER KEY\n",
    "\n",
    "#### For Q4, follow the instructions below:\n",
    "\n",
    "- The csv files called `WY2014-R.csv` AND `WY2016-R.csv`.\n",
    "- Use `read.csv()` to import the csv file from the data folder.\n",
    "- Use the `str()` to identify its structure."
   ]
  },
  {
   "cell_type": "code",
   "execution_count": null,
   "metadata": {},
   "outputs": [],
   "source": [
    "########## Q4, UPDATE THIS CODE #############\n",
    "# import `WY2014-R`\n",
    "WY2014 <- read.csv(\"UPDATE THIS\", \n",
    "                          header = TRUE, sep = \",\")\n",
    "\n",
    "# run the str() function on the data frame to see its structure, \n",
    "str(UPDATE THIS)\n",
    "\n",
    "# import `WY2016-R`\n",
    "WY2016 <- read.csv(\"UPDATE THIS\", \n",
    "                          header = TRUE, sep = \",\")\n",
    "\n",
    "# run the str() function on the data frame to see its structure, \n",
    "str(UPDATE THIS)"
   ]
  },
  {
   "cell_type": "markdown",
   "metadata": {},
   "source": [
    "__Q4) How many rows are there (\"obs.\")? Columns (\"variables\")? Number of days represented?__"
   ]
  },
  {
   "cell_type": "markdown",
   "metadata": {},
   "source": [
    "INSERT ANSWER"
   ]
  },
  {
   "cell_type": "markdown",
   "metadata": {},
   "source": [
    "#### __Good!__ Use what you've learned to `plot` WY2013, WY2014, WY2016 and WY2017 on the same graph. Make sure to label the axes and include a legend."
   ]
  },
  {
   "cell_type": "markdown",
   "metadata": {},
   "source": [
    "__5) Copy and paste the \"FOR PLOTTING\" block of code from the example. Make two new `lines()` for WY2014 and WY2016 (see line for WY2017). Use any color, `col=\"\"`, `lwd=3`, `pch=18`, and `type=\"b\"`.__ "
   ]
  },
  {
   "cell_type": "code",
   "execution_count": null,
   "metadata": {},
   "outputs": [],
   "source": [
    "################# Q5 ANSWER CODE ####################\n",
    "\n",
    "# Use the plot() function to make the WY2013 line.\n",
    "plot(WY2013, \n",
    "     type=\"b\" , \n",
    "     bty=\"l\" , \n",
    "     xlab=\"UPDATE THIS\" , \n",
    "     ylab=\"UPDATE THIS\" , \n",
    "     col=\"blue\" , \n",
    "     lwd=3 , pch=17, ylim=c(6.51,6.59) )\n",
    "\n",
    "# Add second curve for WY2014 to the same plot by calling lines()\n",
    "lines(\n",
    "    )\n",
    "\n",
    "# Add third curve for WY2016 to the same plot by calling lines()\n",
    "lines(\n",
    "    )\n",
    "\n",
    "# Replicate the fourth curve for WY2017 from above\n",
    "lines(\n",
    "    )\n",
    "\n",
    "# This adds horizontal axis lines.\n",
    "abline(h=seq(0,6.59,0.01) , col=\"grey\", lwd=1)\n",
    "\n",
    "# ADD A TITLE\n",
    "title(\"UPDATE THIS\")\n",
    "\n",
    "# Add a legend\n",
    "legend(\"topleft\", \n",
    "  legend = c(\"WY2013\", \"WY2014\", \"WY2016\", \"WY2017\"), \n",
    "# Update 'col=c()' by following the same time organization as is on the legend.       \n",
    "  col = c(\"blue\", \"UPDATE THIS\" , \"UPDATE THIS\" , \"UPDATE THIS\"), \n",
    "  pch = c(17,18,19), \n",
    "  bty = \"n\", \n",
    "  pt.cex = 2, \n",
    "  cex = 1.5, \n",
    "  text.col = \"black\", \n",
    "  horiz = F , \n",
    "  inset = c(0.1, 0.1))"
   ]
  },
  {
   "cell_type": "markdown",
   "metadata": {},
   "source": [
    "__Q5) Look at the peaks between 200 - 250 days and the troughs between 125 - 175 days. Which seasons do these correspond to?__\n",
    "\n",
    "HINT: The Boulder Creek Watershed (from which this data is derived) typically gets little precipitation in December and January.\n",
    "\n",
    "> Use the function below (it's similar to the example `days_to_months`) to answer the question. Be sure to update the value at the bottom!"
   ]
  },
  {
   "cell_type": "code",
   "execution_count": null,
   "metadata": {},
   "outputs": [],
   "source": [
    "####### SIMPLY RUN CODE #######\n",
    "\n",
    "which.season <- function(x) {\n",
    "if (x<83) {\n",
    "return(\"Fall Season\")\n",
    "}\n",
    "else if (x<175) {\n",
    "return(\"Winter Season\")\n",
    "}\n",
    "else if (x<266) {\n",
    "return(\"Spring Season\")\n",
    "}\n",
    "else if (x<358) {\n",
    "return(\"Summer Season\")\n",
    "}\n",
    "else if (x<365) {\n",
    "return(\"Fall Season\")\n",
    "}\n",
    "else {\n",
    "return(\"Uh-oh! You must be thinking of the days on another planet!\")\n",
    "}\n",
    "}\n",
    "\n",
    "#Update the value in the parantheses below with the value of interest\n",
    "print(which.season(300))"
   ]
  },
  {
   "cell_type": "markdown",
   "metadata": {},
   "source": [
    "__Q5) Back to question 5. Look at the peaks between 200 - 250 days and the troughs between 125 - 175 days. Which seasons do these correspond to?__"
   ]
  },
  {
   "cell_type": "markdown",
   "metadata": {},
   "source": [
    "INSERT ANSWER"
   ]
  },
  {
   "cell_type": "markdown",
   "metadata": {},
   "source": [
    "## Final Thoughts\n",
    "\n",
    "You've now learned that soil water storage in the subsurface is another important reservoir that intermittently stores water on its way to recharge an aquifer. In addition, understanding the increases and decreases in soil water storage helps agriculture managers understand the seasonality of crops."
   ]
  },
  {
   "cell_type": "markdown",
   "metadata": {},
   "source": [
    "## Congrats! You're one lesson smarter!\n",
    "\n",
    "![gw.PNG](gw.PNG)"
   ]
  },
  {
   "cell_type": "markdown",
   "metadata": {},
   "source": [
    "### References (in order of appearance)\n",
    "\n",
    "__Subsurface_Figure.__ (2020). Corona, Claudia. Dissertation Work.\n",
    "\n",
    "__Soil Water Storage.__ (2020). Sharma, Vivek. Irrigation Management: Basics of Soil Water. Department of Plant Sciences, University of Wyoming. Link: http://wyoextension.org/publications/html/B1330/ Accessed: 09/22/20.\n",
    "\n",
    "__Graphs in R__ \n",
    "McCown, Frank. (2020). Producing Simple graphs with R. Link: https://sites.harding.edu/fmccown/r/ Accessed: 10/02/20\n",
    "\n",
    "__Axis Labels in R__ \n",
    "DataMentor (2020). Advanced R barplot customization. Link:https://www.r-graph-gallery.com/210-custom-barplot-layout.html Accessed: 10/03/20.\n",
    "\n",
    "__Multiple graphs in a Single Plot__ \n",
    "DataMentor (2020). R par() function. Link:https://www.datamentor.io/r-programming/subplot/ Accessed: 10/03/20.\n",
    "\n",
    "__Cute Water Molecules in the Unsaturated Zone__ (2020). KQED Quest. What is Groundwater? https://www.youtube.com/watch?v=oNWAerr_xEEAccessed: 10/03/20."
   ]
  },
  {
   "cell_type": "code",
   "execution_count": null,
   "metadata": {},
   "outputs": [],
   "source": []
  }
 ],
 "metadata": {
  "kernelspec": {
   "display_name": "R",
   "language": "R",
   "name": "ir"
  },
  "language_info": {
   "codemirror_mode": "r",
   "file_extension": ".r",
   "mimetype": "text/x-r-source",
   "name": "R",
   "pygments_lexer": "r",
   "version": "4.0.2"
  }
 },
 "nbformat": 4,
 "nbformat_minor": 4
}
