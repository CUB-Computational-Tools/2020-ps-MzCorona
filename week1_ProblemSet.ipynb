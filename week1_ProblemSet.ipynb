{
 "cells": [
  {
   "cell_type": "markdown",
   "metadata": {},
   "source": [
    "<div style=\"background: #efffed;\n",
    "            border: 1px solid grey;\n",
    "            margin: 8px 0 8px 0;\n",
    "            text-align: center;\n",
    "            padding: 8px; \">\n",
    "    <i class=\"fa-play fa\" \n",
    "       style=\"font-size: 40px;\n",
    "              line-height: 40px;\n",
    "              margin: 8px;\n",
    "              color: #444;\">\n",
    "    </i>\n",
    "    <center>\n",
    "    Click into a code cell (the gray blocks below) to select or edit it.<br/>\n",
    "    To run a selected code cell, hit <pre style=\"background: #efffed\">Shift + Enter</pre>\n",
    "    Make sure that each code cell runs successfully before you move on to the next one.\n",
    "    </center>\n",
    "</div>"
   ]
  },
  {
   "cell_type": "markdown",
   "metadata": {},
   "source": [
    "# Week 1, Darcy's Law\n",
    "\n",
    "### LEARNING GOALS\n",
    "\n",
    "After doing this exercise, you should be able to:\n",
    "\n",
    "- have a better understanding of what drives subsurface flow. \n",
    "- define each of the variables in Darcy's Law. \n",
    "- calculate the discharge rate (q), with Hydraulic Conductivity (K), Area (A), and Hydraulic Gradient (I). \n",
    "\n",
    "\n",
    "### BACKGROUND\n",
    "> Given we are 67% water and can't go 48 hours without it, it can be said that we take for granted our access to clean, drinking water. During the 19th century, most people in Europe knew not to drink any public sources of water for fear of contracting death or disease. During this time, a French hydraulic engineer named Henry Darcy was was interested in determining how to provide a clean, dependable water supply to the city of Dijon. So he experimented with purifying water supplies using sand filters.\n",
    "\n",
    "> Darcy conducted experiments to determine the flow rate of water through sand filters. He realized that the discharge rate (q) of water flowing through a tube filled with sand was a function of the cross-sectional area through which the water flowed (A), the hydraulic head gradient (I), and the hydraulic conductivity of the material (K). Now known as Darcy's law, his findings resulted in an equation that describes the flow of a fluid through a porous medium. \n",
    "\n",
    "### DARCY'S LAW \n",
    "\n",
    "\\begin{align}\n",
    "\\ {q} & = \\ - K*I*A \\\\\n",
    "\\\\\n",
    "\\ where \\\\\n",
    "\\\\\n",
    "\\ {K} & = hydraulic \\ conductivity, units: L/T \\\\ \n",
    "\\ {I} & = hydraulic \\ head \\ gradient, units: L/L \\\\\n",
    "\\ {A} & = cross-sectional \\ area, units: L^{2} \\\\\n",
    "\\\n",
    "\\end{align}\n",
    "\n",
    "#### Example \n",
    "\n",
    "You are trying to calculate the discharge rate through a gravel-packed slope, with a hydraulic gradient of 5/10, a hydraulic conductivity of 50 meters/day and a cross-sectional area of $1000m^{2}$. What would the discharge rate through this slope be in a day?\n",
    "\n",
    "###### Let's write it out:\n",
    "K = 50 m/d \\\n",
    "I = 5/10 \\\n",
    "A = $1000m^{2}$ \n",
    "\n",
    "q = -K * I * A \\\n",
    "q = -50 * 5/10 * $1000m^{2}$ \\\n",
    "q = $25000 m^{2}$, which is an equivalent discharge rate of 2 acre-feet of water!\n",
    "\n",
    "### QUESTIONS\n",
    "\n",
    "Q1: What does \"q\" stand for in Darcy's Law? \n",
    "\n",
    "Q2: What is \"K\"? How does it vary for sand layer vs. a clay layer? \n",
    "\n",
    "Q3: Using the constants defined, what is the discharge rate, q, through a sand layer with a $100m^{2}$ area and a hydraulic gradient of 1.0? \n",
    "\n",
    "Q4: Now consider a clay layer. Using the same variables, how would the discharge rate change? Would it increase or decrease? "
   ]
  },
  {
   "cell_type": "code",
   "execution_count": 2,
   "metadata": {},
   "outputs": [
    {
     "name": "stdout",
     "output_type": "stream",
     "text": [
      "6\n",
      "0.5\n",
      "100\n",
      "The discharge rate is 300.0 cubic meters per day.\n"
     ]
    }
   ],
   "source": [
    "# Darcy's Law is q = - KIA\n",
    "#To Answer Questions #3 and #4, use the K library for the hydraulic conductivity pertinent to the question\n",
    "K = {\"gravel\" : 50,\n",
    "     \"sand\" : 10, \n",
    "     \"silt\" : 6, \n",
    "     \"clay\" : 0.1,\n",
    "     \"bedrock\" : 0.001} #mini-library defines the set of K values, units: meters/day\n",
    "I = 5/10 #meters/meters\n",
    "A = 100 #meters squared\n",
    "\n",
    "print(K[\"silt\"])  #print(K[\"change for the soil type asked by the question\"]) \n",
    "print(I)  #Make sure the hydraulic gradient is the correct value\n",
    "print(A)  #Make sure the area is the correct value\n",
    "\n",
    "q = K[\"silt\"]*I*A #Use Darcy's law to answer questions #3 and #4. Make sure to use the right soil type.\n",
    "\n",
    "q = str(q) #converts the type back from an integer into a string\n",
    "\n",
    "print(\"The discharge rate is \" + q + \" cubic meters per day.\")\n"
   ]
  },
  {
   "cell_type": "code",
   "execution_count": null,
   "metadata": {},
   "outputs": [],
   "source": []
  }
 ],
 "metadata": {
  "kernelspec": {
   "display_name": "Python 3",
   "language": "python",
   "name": "python3"
  },
  "language_info": {
   "codemirror_mode": {
    "name": "ipython",
    "version": 3
   },
   "file_extension": ".py",
   "mimetype": "text/x-python",
   "name": "python",
   "nbconvert_exporter": "python",
   "pygments_lexer": "ipython3",
   "version": "3.7.6"
  }
 },
 "nbformat": 4,
 "nbformat_minor": 4
}
