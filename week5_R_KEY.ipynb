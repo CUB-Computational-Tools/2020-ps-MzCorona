{
 "cells": [
  {
   "cell_type": "code",
   "execution_count": null,
   "metadata": {},
   "outputs": [],
   "source": [
    "# R Program session info\n",
    "sessionInfo()\n",
    "\n",
    "# Know your current working directory\n",
    "getwd()"
   ]
  },
  {
   "cell_type": "markdown",
   "metadata": {},
   "source": [
    "# Week 5, Precipitation in Boulder, CO in R Programming Language \n",
    "\n",
    "## THIS IS THE ANSWER KEY\n",
    "\n",
    "\n",
    "### LEARNING GOALS\n",
    "\n",
    "After doing this exercise, you should be able to:\n",
    "\n",
    "- Give examples of different kinds of precipitation and recall the two types that occur most often in the Boulder, CO area\n",
    "- Identify which months receive the highest average precipitation, in Boulder, CO\n",
    "- Modify R dataframes\n",
    "- Create bar plots, in color! (oh my!)\n",
    "\n",
    "### PREREQUISITES\n",
    "\n",
    "- Know how to access a text/csv file in R\n",
    "\n",
    "\n",
    "## BACKGROUND\n",
    "\n",
    "> In the local weather news, every day we learn something new about what water vapor is up to in  the atmosphere -- we learn about rainfall, snowstorms, hail, drizzle, sleet, or if you live along the Front Range, all five in the same day. In meteorology and hydrology, these descriptions of water's condensation behavior from the atmosphere to the surface fit under the all-encompassing umbrella of precipitation (Pun absolutely intended).\n",
    "\n",
    "> To know how much precipitation to expect on any given day, scientists use various types of gauges to measure precipitation amounts. Some of the simplest devices were invented hundreds of years ago-- literally small cylinders with vertical ticks that denote some unit of length. Below is an image of a modern rain gauge, with some visiting rain!\n",
    "\n",
    "> Simple precipitation gauges are manually checked while fancier ones are automated."
   ]
  },
  {
   "cell_type": "markdown",
   "metadata": {},
   "source": [
    "![Rain_Gauge.jpg](Rain_Gauge.jpg)"
   ]
  },
  {
   "cell_type": "markdown",
   "metadata": {},
   "source": [
    "### Precipitation in the Boulder, CO Area\n",
    "\n",
    "- According to the National Oceanic and Atmospheric Administration (NOAA), the average annual precipitation (including rain, snow, etc) in Boulder, CO is ~ 20 inches. \n",
    "\n",
    "- The majority of precipitation falls in the __Winter__ (snow) or in the __Summer__ (rain).\n",
    "\n",
    "#### Which months have the highest precipitation, on average?\n",
    "Let's import some data to find out!\n",
    "\n",
    "### But first, a review: What is a dataframe in R?\n",
    "\n",
    "- In R, a __dataframe__ is a two-dimensional array-like structure that stores data. The data stored in a data frame can be numeric, factor or character type.\n",
    "\n",
    "- In a __dataframe__, the columns contain the \"variables\" of the dataset. The rows contain the observations \"obs\". \n",
    "\n",
    "- A __dataframe__ differs from a matrix in that it can contain different data types, whereas a matrix can only contain one type of data.\n",
    "\n",
    "> Let's import some data to see which months have the highest precipitation on average:"
   ]
  },
  {
   "cell_type": "code",
   "execution_count": null,
   "metadata": {},
   "outputs": [],
   "source": [
    "# Read a txt file locaed in the data folder, named \"avg-mo-precip.txt\"\n",
    "avg_in_ppt <- read.delim(\"data/avg-monthly-precip-R.txt\")\n",
    "\n",
    "# Inspect the results. What do you see?\n",
    "print(avg_in_ppt)\n",
    "\n",
    "# Inspect the structure of this dataframe. What does it tell you?\n",
    "str(avg_in_ppt)"
   ]
  },
  {
   "cell_type": "markdown",
   "metadata": {},
   "source": [
    "> Using `str()` we see that this dataframe has 1 column i.e. \"variable\" and 12 rows, i.e. \"obs.\".\n",
    "\n",
    "> Let's add a column of months to the dataframe. We can use `cbind()`. "
   ]
  },
  {
   "cell_type": "code",
   "execution_count": null,
   "metadata": {},
   "outputs": [],
   "source": [
    "#Adding a column with 12 \"chr\" values to identify the months\n",
    "avg_mon_ppt = cbind(avg_in_ppt,Month=c(\n",
    "    \"Jan\", \"Feb\", \"Mar\", \"Apr\", \"May\", \"Jun\", \n",
    "    \"Jul\", \"Aug\", \"Sep\", \"Oct\", \"Nov\", \"Dec\" ))\n",
    "\n",
    "#Inspecting the results\n",
    "print(avg_mon_ppt)\n",
    "\n",
    "#Inspecting the structure\n",
    "str(avg_mon_ppt)\n"
   ]
  },
  {
   "cell_type": "markdown",
   "metadata": {},
   "source": [
    "\n",
    "> __May and April seem to get the most rainfall.__\n",
    "\n",
    "    \n",
    "## Follow along with this example\n",
    "\n",
    "### Scientists work in the metric system. Let's convert our values from inches to centimeters. \n",
    "\n",
    "> 1) There are 2.54 cm in 1 inch. Create a new dataframe that has the product of the values in the text file `avg_in_precip`, multiplied by 2.54."
   ]
  },
  {
   "cell_type": "code",
   "execution_count": null,
   "metadata": {},
   "outputs": [],
   "source": [
    "avg_cm_ppt = (avg_in_ppt*2.54) # Multiplying the avg_in_ppt by 2.54\n",
    "print(avg_cm_ppt)"
   ]
  },
  {
   "cell_type": "markdown",
   "metadata": {},
   "source": [
    "__OOPS!__ The column name needs to be changed from \"IN\" to \"CM\". We'll use `colnames()`.\n",
    "\n",
    "> `colnames()` defines the column (header) names of a matrix or dataframe.\n",
    "\n",
    "> We are solely interested in renaming one column, we do this with __[ ] brackets.__"
   ]
  },
  {
   "cell_type": "code",
   "execution_count": null,
   "metadata": {},
   "outputs": [],
   "source": [
    "# colnames(ADD-DATAFRAME-HERE)[1]  <- \"name\" This would rename the first column.\n",
    "colnames(avg_cm_ppt)[1]  <- \"Avg_Precip_CM\"\n",
    "print(avg_cm_ppt)"
   ]
  },
  {
   "cell_type": "markdown",
   "metadata": {},
   "source": [
    "__GREAT!__ Now we are going to add the __avg_cm_ppt__ dataframe to the __avg_mon_ppt__ dataframe using `cbind()`\n",
    "\n",
    "> `cbind()` is short for \"column bind\" and can be used to combine two data frames (as long as they contain the same number of rows) into one single data frame."
   ]
  },
  {
   "cell_type": "code",
   "execution_count": null,
   "metadata": {},
   "outputs": [],
   "source": [
    "avg_monthly = cbind(avg_mon_ppt,avg_cm_ppt) #Merging dataframes\n",
    "print(avg_monthly) #Notice that the \"cm\" column is appended to the \"in\" dataframe."
   ]
  },
  {
   "cell_type": "markdown",
   "metadata": {},
   "source": [
    "### Now for some plotting!\n",
    "\n",
    "We are going to use some R plotting tools to adjust the bar plot to what we want.\n",
    "\n",
    "__For the margin size__\n",
    "> `par()` adjusts plotting parameters.\n",
    "\n",
    "> `par(mar=c())` adjusts margin size.\n",
    "    \n",
    "> `(mar=c(1,1,1,1))` is a numeric vector of length 4. It sets the margin size in the following manner: (bottom, left, top, right). \n",
    "\n",
    "> If you don't change this, you will get the default. Default is `mar=(c5.1,4.1,4.1,2.1)`\n",
    "\n",
    "__For the axes__\n",
    "> `las= ()` defines a numeric value indicating the orientation of the tick mark labels. \n",
    "\n",
    "> `las= ()` can be always parallel to the axis (default, 0), always horizontal (1), always perpendicular to the axis (2), and always vertical (3).\n"
   ]
  },
  {
   "cell_type": "code",
   "execution_count": null,
   "metadata": {},
   "outputs": [],
   "source": [
    "##################### Setting up the bar plot #############################\n",
    "\n",
    "# Increase margin size\n",
    "par(mar=c(4,4,4,0))\n",
    "\n",
    "# The $ sign singles out the column you are interested in plotting (Avg_Precip_CM) within the dataframe (avg_monthly).\n",
    "# ylim=c() is setting the y-axis value range\n",
    "# We call axes = FALSE and ann = FALSE because we want to label these ourselves!\n",
    "# The space=c() spaces out the columns.\n",
    "# col=\"CHOOSE A COLOR\"\n",
    "\n",
    "barplot(avg_monthly$Avg_Precip_CM, ylim=c(0,9), axes = FALSE, \n",
    "        space=c(0.035,0.035,0.035,0.035), col=\"blue\")\n",
    "\n",
    "# Make x axis using month labels\n",
    "axis(1, las=0, at=0.80:12.7,     \n",
    "    lab=c(\"Jan\", \"Feb\", \"Mar\", \"Apr\", \n",
    "           \"May\", \"Jun\", \"Jul\", \"Aug\", \n",
    "           \"Sep\", \"Oct\", \"Nov\", \"Dec\"), font.axis=2)\n",
    "\n",
    "# Make y axis with horizontal labels that display ticks at every 1 marks. \n",
    "# 1*0:8 is equivalent to c(0,1,2,3,etc).\n",
    "axis(2, las=2, at=1*0:9)\n",
    "\n",
    "# Create a title with a black, bold font\n",
    "title(main=\"Average Monthly Precipitation\", col.main=\"black\", font.main=2)\n",
    "\n",
    "# Label the x and y axes\n",
    "title(xlab=\"Month\")\n",
    "title(ylab=\"Precipitation (cm)\")\n",
    "\n",
    "# Create box around plot\n",
    "box()"
   ]
  },
  {
   "cell_type": "markdown",
   "metadata": {},
   "source": [
    "__Great!__\n",
    "\n",
    "It turns out though, that the data we have been plotting only takes into account the climatology from __1971 - 2000__. A lot has happened since the year 2000, let's plot the climatology ranging from __1971 - 2019__. Then we can compare if any changes in the average have occurred in the last 19 years. Before we dive into that, let's review: "
   ]
  },
  {
   "cell_type": "markdown",
   "metadata": {},
   "source": [
    "# Brief Review, ANSWER KEY \n",
    "\n",
    "#### Use what you learned to answer the following questions:\n",
    "\n",
    "__Q1) List five types of precipitation. Identify the two types of precipitation that are most common in the Boulder area.__\n",
    "\n",
    "__ANSWER__\n",
    "> Snow, sleet, rain, hail, drizzle.\n",
    "> Snow and rain are the most common in the Boulder, CO area\n",
    "\n",
    "__Q2) According to the 1971 - 2000 climatology, which THREE months receive the most precipitation?__\n",
    "\n",
    "__ANSWER__\n",
    "> According to the climatology, April, May and June (June is just barely).\n"
   ]
  },
  {
   "cell_type": "markdown",
   "metadata": {},
   "source": [
    "## Practing your Skills, ANSWER KEY\n",
    "\n",
    "#### For these next questions, follow the instructions below:\n",
    "\n",
    "- The csv file called `mo-precip-1971-2019-R.csv` contains a list of monthly averages per year (1971, 1972, etc), from 1971 - 2019. \n",
    "- Use `read.csv()` to import the csv file from the data folder.\n",
    "- Use the `str()` to identify its structure."
   ]
  },
  {
   "cell_type": "code",
   "execution_count": null,
   "metadata": {},
   "outputs": [],
   "source": [
    "########## Q3 ANSWER CODE #############\n",
    "# Read a csv file, named \"avg-mo-precip.txt\"\n",
    "ppt1971to2019 <- read.csv(\"data/mo-precip-1971-2019-R.csv\", \n",
    "                          header = TRUE, sep = \",\")\n",
    "\n",
    "# run the str() function on the data frame to see its structure, \n",
    "str(ppt1971to2019)"
   ]
  },
  {
   "cell_type": "markdown",
   "metadata": {},
   "source": [
    "__Q3) How many rows are there (\"obs.\")? Columns (\"variables\")? Number of years represented?__\n",
    "\n",
    "> There are 49 rows and 12 columns. \n",
    "\n",
    "> 49 years are represented (1971 - 2019)"
   ]
  },
  {
   "cell_type": "markdown",
   "metadata": {},
   "source": [
    "### Each column represents a month. \n",
    "\n",
    "> If we take the average of each column in the dataframe, the result will be the average rainfall per month, in inches, from 1971-2019."
   ]
  },
  {
   "cell_type": "code",
   "execution_count": null,
   "metadata": {},
   "outputs": [],
   "source": [
    "########## SIMPLY RUN THIS CODE ##################\n",
    "avg_in <- round(colMeans(ppt1971to2019[,c(1:12)]),2)\n",
    "avg_in"
   ]
  },
  {
   "cell_type": "markdown",
   "metadata": {},
   "source": [
    "#### __Good!__\n",
    "Now that we have calculated the average values for the climatology series, 1971 - 2019, let's get to work! \n",
    "\n",
    "__Q4) Convert the new climatology series from inches to centimeters and make it a new dataframe. Round to two decimal places (see example above). Use `print()` to check.__ "
   ]
  },
  {
   "cell_type": "code",
   "execution_count": null,
   "metadata": {},
   "outputs": [],
   "source": [
    "####### Q4 ANSWER CODE #############\n",
    "avg_cm = round((avg_in*2.54), 2)\n",
    "print(avg_cm)"
   ]
  },
  {
   "cell_type": "markdown",
   "metadata": {},
   "source": [
    "__5) Copy and paste the \"FOR PLOTTING\" block of code from above, below (see example). Update everything to make sure it runs.__ "
   ]
  },
  {
   "cell_type": "code",
   "execution_count": null,
   "metadata": {},
   "outputs": [],
   "source": [
    "################# Q5 ANSWER CODE ####################\n",
    "################# FOR PLOTTING ####################\n",
    "\n",
    "barplot(avg_cm, ylim=c(0,9), axes = FALSE, ann = FALSE, \n",
    "        space=c(0.1,0.1,0.1,0.1), col=\"forestgreen\")\n",
    "\n",
    "# Make y axis with horizontal labels that display ticks at every 1 marks. \n",
    "# 1*0:10 is equivalent to c(0,1,2,3,4, etc).\n",
    "axis(2, las=2, at=1*0:9)\n",
    "\n",
    "# Create a title with a black, bold font\n",
    "title(main=\"Average Monthly Precipitation\", col.main=\"black\", font.main=2)\n",
    "\n",
    "# Label the x and y axes\n",
    "title(xlab=\"Month\")\n",
    "title(ylab=\"Precipitation (cm)\")\n",
    "\n",
    "# Create box around plot\n",
    "box()"
   ]
  },
  {
   "cell_type": "markdown",
   "metadata": {},
   "source": [
    "__5) Do the months of April, May and June still have the highest average precipitation? If not, what has changed?__ \n",
    "\n",
    "> April and May still have the highest average precipitation. \n",
    "\n",
    "> September has surpassed June for 3rd highest monthly average precipitation."
   ]
  },
  {
   "cell_type": "markdown",
   "metadata": {},
   "source": [
    "### BONUS KNOWLEDGE (the best, really):\n",
    "\n",
    "Let's do a plot v. plot comparison of the two climatologies. All you have to do here is run the code. "
   ]
  },
  {
   "cell_type": "code",
   "execution_count": null,
   "metadata": {},
   "outputs": [],
   "source": [
    "################# SIMPLY RUN THIS CODE ####################\n",
    "# Increase margin size\n",
    "par(mar=c(4,4,4,0))\n",
    "\n",
    "barplot(avg_monthly$Avg_Precip_CM, \n",
    "        ylim=c(0,9), \n",
    "        axes = FALSE, \n",
    "        ann = FALSE, \n",
    "        space=c(0.035,0.035,0.035,0.035), \n",
    "        col=\"blue\")\n",
    "\n",
    "# Make x axis using month labels\n",
    "axis(1, las=0, at=0.80:12.7,     \n",
    "    lab=c(\"Jan\", \"Feb\", \"Mar\", \"Apr\", \n",
    "           \"May\", \"Jun\", \"Jul\", \"Aug\", \n",
    "           \"Sep\", \"Oct\", \"Nov\", \"Dec\"), font.axis=2)\n",
    "\n",
    "# Make y axis with horizontal labels that display ticks at every 1 marks. \n",
    "# 1*0:9 is equivalent to c(0,1,2,3,etc).\n",
    "axis(2, las=2, at=1*0:9)\n",
    "\n",
    "# Create a title with a black, bold font\n",
    "title(main=\"1971-2000 Climatology\", col.main=\"black\", font.main=2)\n",
    "\n",
    "# Label the x and y axes \n",
    "title(xlab=\"Month\")\n",
    "title(ylab=\"Precipitation (cm)\")\n",
    "\n",
    "# Create box around plot\n",
    "box()\n",
    "\n",
    "##################################################\n",
    "\n",
    "# Increase margin size\n",
    "par(mar=c(4,4,4,0))\n",
    "\n",
    "barplot(avg_cm, \n",
    "        ylim=c(0,9), \n",
    "        axes = FALSE, \n",
    "        ann = FALSE, \n",
    "        space=c(0.035,0.035,0.035,0.035),\n",
    "        col=\"forestgreen\")\n",
    "\n",
    "# Make y axis with horizontal labels that display ticks at every 1 marks. \n",
    "# 1*0:10 is equivalent to c(0,1,2,3,4, etc).\n",
    "axis(2, las=2, at=1*0:9)\n",
    "\n",
    "# Create a title with a black, bold font\n",
    "title(main=\"1971-2019 Climatology\", col.main=\"black\", font.main=2)\n",
    "\n",
    "# Label the x and y axes\n",
    "title(xlab=\"Month\")\n",
    "title(ylab=\"Precipitation (cm)\")\n",
    "\n",
    "# Create box around plot\n",
    "box()"
   ]
  },
  {
   "cell_type": "markdown",
   "metadata": {},
   "source": [
    "#### Does anything seem different when comparing the two plots?\n",
    "\n",
    "> The average precipitation from __Oct to Dec__ for both plots differs. In the __1971-2019__ plot, the precipitation seems to be __decreasing__ from October to December. That is certainly not the case in the 1971-2000 climatology.\n",
    "\n",
    "> It seems then like the last 19 years have influenced the average monthly precipitation rates. \n",
    "\n",
    "> Are there any other changes you spot? What do you think these changes might mean for the local environment? Especially in the late Fall/early Winter months?\n",
    "\n",
    "> The impacts that these changes have on our regional watersheds are certainly worth examining. But that'll be a lesson for another time. ^_^\n"
   ]
  },
  {
   "cell_type": "markdown",
   "metadata": {},
   "source": [
    "## Congrats! You passed the lesson with falling colors! \n",
    "\n",
    "![High_Five_Husky.jpg](High_Five_Husky.jpg)"
   ]
  },
  {
   "cell_type": "markdown",
   "metadata": {},
   "source": [
    "### References\n",
    "__Rain_Gauge_Image__ \n",
    "Four Season Tools. (2020). Link: https://www.smallfarmtools.com/-367 Accessed: 09/07/20.\n",
    "\n",
    "__Avg_Monthly_Precip_Data__ \n",
    "National Oceanic and Atmospheric Administration. Earth Systems Research Laboratories. (2020). Link: https://psl.noaa.gov/boulder/Boulder.mm.precip.html Accessed: 09/07/20.\n",
    "\n",
    "__Adding Columns to R DataFrame__ \n",
    "DataMentor (2020). R Data Frame. Link: https://www.datamentor.io/r-programming/data-frame/ Accessed: 09/26/20.\n",
    "\n",
    "__Graphs in R__ \n",
    "McCown, Frank. (2020). Producing Simple graphs with R. Link: https://sites.harding.edu/fmccown/r/ Accessed: 09/28/20\n",
    "\n",
    "__Axis Labels in R__ \n",
    "DataMentor (2020). Advanced R barplot customization. Link:https://www.r-graph-gallery.com/210-custom-barplot-layout.html Accessed: 09/28/20.\n",
    "\n",
    "__Multiple graphs in a Single Plot__ \n",
    "DataMentor (2020). R par() function. Link:https://www.datamentor.io/r-programming/subplot/ Accessed: 09/28/20.\n",
    "\n",
    "__High_Five_Husky__ \n",
    "Best Life. (2020). Link: https://bestlifeonline.com/adorable-puppy-pictures Accessed: 09/08/20."
   ]
  }
 ],
 "metadata": {
  "kernelspec": {
   "display_name": "R",
   "language": "R",
   "name": "ir"
  },
  "language_info": {
   "codemirror_mode": "r",
   "file_extension": ".r",
   "mimetype": "text/x-r-source",
   "name": "R",
   "pygments_lexer": "r",
   "version": "4.0.2"
  }
 },
 "nbformat": 4,
 "nbformat_minor": 4
}
