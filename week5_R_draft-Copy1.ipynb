{
 "cells": [
  {
   "cell_type": "code",
   "execution_count": 113,
   "metadata": {},
   "outputs": [
    {
     "data": {
      "text/plain": [
       "R version 4.0.2 (2020-06-22)\n",
       "Platform: i386-w64-mingw32/i386 (32-bit)\n",
       "Running under: Windows 10 x64 (build 19041)\n",
       "\n",
       "Matrix products: default\n",
       "\n",
       "locale:\n",
       "[1] LC_COLLATE=English_United States.1252 \n",
       "[2] LC_CTYPE=English_United States.1252   \n",
       "[3] LC_MONETARY=English_United States.1252\n",
       "[4] LC_NUMERIC=C                          \n",
       "[5] LC_TIME=English_United States.1252    \n",
       "\n",
       "attached base packages:\n",
       "[1] stats     graphics  grDevices utils     datasets  methods   base     \n",
       "\n",
       "other attached packages:\n",
       "[1] ggplot2_3.3.2\n",
       "\n",
       "loaded via a namespace (and not attached):\n",
       " [1] magrittr_1.5     tidyselect_1.1.0 munsell_0.5.0    uuid_0.1-4      \n",
       " [5] colorspace_1.4-1 R6_2.4.1         rlang_0.4.7      dplyr_1.0.2     \n",
       " [9] tools_4.0.2      grid_4.0.2       gtable_0.3.0     withr_2.2.0     \n",
       "[13] htmltools_0.5.0  ellipsis_0.3.1   digest_0.6.25    tibble_3.0.3    \n",
       "[17] lifecycle_0.2.0  crayon_1.3.4     IRdisplay_0.7.0  purrr_0.3.4     \n",
       "[21] repr_1.1.0       base64enc_0.1-3  vctrs_0.3.2      IRkernel_1.1.1  \n",
       "[25] glue_1.4.1       evaluate_0.14    pbdZMQ_0.3-3     compiler_4.0.2  \n",
       "[29] pillar_1.4.6     generics_0.0.2   scales_1.1.1     jsonlite_1.7.0  \n",
       "[33] pkgconfig_2.0.3 "
      ]
     },
     "metadata": {},
     "output_type": "display_data"
    },
    {
     "data": {
      "text/html": [
       "'C:/Users/ccoro/GIT/ProblemSets/2020-ps-MzCorona'"
      ],
      "text/latex": [
       "'C:/Users/ccoro/GIT/ProblemSets/2020-ps-MzCorona'"
      ],
      "text/markdown": [
       "'C:/Users/ccoro/GIT/ProblemSets/2020-ps-MzCorona'"
      ],
      "text/plain": [
       "[1] \"C:/Users/ccoro/GIT/ProblemSets/2020-ps-MzCorona\""
      ]
     },
     "metadata": {},
     "output_type": "display_data"
    }
   ],
   "source": [
    "# session info\n",
    "sessionInfo()\n",
    "\n",
    "# Know your current working directory\n",
    "getwd()"
   ]
  },
  {
   "cell_type": "markdown",
   "metadata": {},
   "source": [
    "# Week 5, Precipitation in Boulder, CO in R    \n",
    "\n",
    "\n",
    "### LEARNING GOALS\n",
    "\n",
    "After doing this exercise, you should be able to:\n",
    "\n",
    "- Give examples of different kinds of precipitation and recall the two that most often occur in the Boulder, CO area\n",
    "- Identify the months of the year that get the highest precipitation amounts on average, in Boulder, CO\n",
    "- Modify an R dataframe\n",
    "\n",
    "- Plot, in color! (oh my!)\n",
    "\n",
    "\n",
    "## BACKGROUND\n",
    "\n",
    "> In the local weather news, every day we learn something new about what water vapor is up to in  the atmosphere -- we learn about rainfall, snowstorms, hail, drizzle, sleet, or if you live along the Front Range, all five in the same day. In meteorology and hydrology, these descriptions of water's condensation behavior from the atmosphere to the surface fit under the all-encompassing umbrella of precipitation (Pun absolutely intended).\n",
    "\n",
    "> To know how much precipitation to expect on any given day, scientists use various types of gauges to measure precipitation amounts. Some of the simplest devices were invented hundreds of years ago-- literally small cylinders with vertical ticks that denote some unit of length. Below is an image of a modern rain gauge, with some visiting rain!\n",
    "\n",
    "> Simple precipitation gauges are manually checked while fancier ones are automated."
   ]
  },
  {
   "cell_type": "markdown",
   "metadata": {},
   "source": [
    "![Rain_Gauge.jpg](Rain_Gauge.jpg)"
   ]
  },
  {
   "cell_type": "markdown",
   "metadata": {},
   "source": [
    "### Precipitation in the Boulder, CO Area\n",
    "\n",
    "- According to the National Oceanic and Atmospheric Administration (NOAA), the average annual precipitation (including rain, snow, etc) in Boulder, CO is ~ 20 inches. \n",
    "\n",
    "- The majority of precipitation falls in the __Winter__ (snow) or in the __Summer__ (rain).\n",
    "\n",
    "__Which months have the highest precipitation, on average?__ Let's import some data to see!"
   ]
  },
  {
   "cell_type": "code",
   "execution_count": 114,
   "metadata": {},
   "outputs": [
    {
     "name": "stdout",
     "output_type": "stream",
     "text": [
      "   Avg_Precip_IN\n",
      "1           0.70\n",
      "2           0.75\n",
      "3           1.85\n",
      "4           2.93\n",
      "5           3.05\n",
      "6           2.02\n",
      "7           1.93\n",
      "8           1.62\n",
      "9           1.84\n",
      "10          1.31\n",
      "11          1.39\n",
      "12          0.84\n"
     ]
    }
   ],
   "source": [
    "# Read a txt file, named \"avg-mo-precip.txt\"\n",
    "avg_in_ppt <- read.delim(\"data/avg-monthly-precip-R.txt\")\n",
    "\n",
    "# Print the Table\n",
    "print(avg_in_ppt)\n"
   ]
  },
  {
   "cell_type": "markdown",
   "metadata": {},
   "source": [
    "### Need to add a column of months for the values. We can do this using `cbind()`. "
   ]
  },
  {
   "cell_type": "code",
   "execution_count": 115,
   "metadata": {},
   "outputs": [
    {
     "name": "stdout",
     "output_type": "stream",
     "text": [
      "   Avg_Precip_IN Month\n",
      "1           0.70   Jan\n",
      "2           0.75   Feb\n",
      "3           1.85   Mar\n",
      "4           2.93   Apr\n",
      "5           3.05   May\n",
      "6           2.02   Jun\n",
      "7           1.93   Jul\n",
      "8           1.62   Aug\n",
      "9           1.84   Sep\n",
      "10          1.31   Oct\n",
      "11          1.39   Nov\n",
      "12          0.84   Dec\n"
     ]
    }
   ],
   "source": [
    "avg_mon_ppt = cbind(avg_in_ppt,Month=c(\n",
    "    \"Jan\", \"Feb\", \"Mar\", \"Apr\", \"May\", \"Jun\", \n",
    "    \"Jul\", \"Aug\", \"Sep\", \"Oct\", \"Nov\", \"Dec\" ))\n",
    "\n",
    "print(avg_mon_ppt)"
   ]
  },
  {
   "cell_type": "markdown",
   "metadata": {},
   "source": [
    "__It looks like May and April get the most rainfall.__\n",
    "\n",
    "In science, the standard convention is to work in the metric system. So we should probably convert. Let's convert to centimeters. There are 2.54 centimeters in 1 inch. Let's check the original values and then convert! \n",
    "    \n",
    "### Let's Walk Through An Example \n",
    "\n",
    "#### Follow the steps below:\n",
    "\n",
    "> 1) There are 2.54 cm in 1 inch. Create a new dataframe that has the product of the values in the text file `avg_monthly_precip`, multiplied by 2.54 cm."
   ]
  },
  {
   "cell_type": "code",
   "execution_count": 116,
   "metadata": {},
   "outputs": [
    {
     "name": "stdout",
     "output_type": "stream",
     "text": [
      "   Avg_Precip_IN\n",
      "1         1.7780\n",
      "2         1.9050\n",
      "3         4.6990\n",
      "4         7.4422\n",
      "5         7.7470\n",
      "6         5.1308\n",
      "7         4.9022\n",
      "8         4.1148\n",
      "9         4.6736\n",
      "10        3.3274\n",
      "11        3.5306\n",
      "12        2.1336\n"
     ]
    }
   ],
   "source": [
    "cm = (avg_in_ppt*2.54)\n",
    "print(cm)"
   ]
  },
  {
   "cell_type": "markdown",
   "metadata": {},
   "source": [
    "> OOPS! The column name needs to be changed from \"IN\" to \"CM\". We'll use `colnames()`.\n",
    "\n",
    "> `colnames()` defines the column (header) names of a matrix or dataframe.\n",
    "\n",
    "> Since we are just interested in renaming one column, this can be done using the [] brackets."
   ]
  },
  {
   "cell_type": "code",
   "execution_count": 117,
   "metadata": {},
   "outputs": [
    {
     "name": "stdout",
     "output_type": "stream",
     "text": [
      "   Avg_Precip_CM\n",
      "1         1.7780\n",
      "2         1.9050\n",
      "3         4.6990\n",
      "4         7.4422\n",
      "5         7.7470\n",
      "6         5.1308\n",
      "7         4.9022\n",
      "8         4.1148\n",
      "9         4.6736\n",
      "10        3.3274\n",
      "11        3.5306\n",
      "12        2.1336\n"
     ]
    }
   ],
   "source": [
    "# colnames(df2)[1]  <- \"name\" This would rename the first column.\n",
    "\n",
    "colnames(cm)[1]  <- \"Avg_Precip_CM\"\n",
    "print(cm)"
   ]
  },
  {
   "cell_type": "markdown",
   "metadata": {},
   "source": [
    "> 2) Next, create a new data frame that includes the `cm` column and the `avg_mon_ppt` column. Use the `Print()` function to ensure the values converted correctly."
   ]
  },
  {
   "cell_type": "code",
   "execution_count": 118,
   "metadata": {},
   "outputs": [
    {
     "name": "stdout",
     "output_type": "stream",
     "text": [
      "   Avg_Precip_IN Month Avg_Precip_CM\n",
      "1           0.70   Jan        1.7780\n",
      "2           0.75   Feb        1.9050\n",
      "3           1.85   Mar        4.6990\n",
      "4           2.93   Apr        7.4422\n",
      "5           3.05   May        7.7470\n",
      "6           2.02   Jun        5.1308\n",
      "7           1.93   Jul        4.9022\n",
      "8           1.62   Aug        4.1148\n",
      "9           1.84   Sep        4.6736\n",
      "10          1.31   Oct        3.3274\n",
      "11          1.39   Nov        3.5306\n",
      "12          0.84   Dec        2.1336\n"
     ]
    }
   ],
   "source": [
    "avg_monthly = cbind(avg_mon_ppt,cm)\n",
    "print(avg_monthly)"
   ]
  },
  {
   "cell_type": "markdown",
   "metadata": {},
   "source": [
    "> 3) __Reuse the \"FOR PLOTTING\" block of code__ from above and update the x and y axes, labels and titles with the correct terms and units."
   ]
  },
  {
   "cell_type": "code",
   "execution_count": 127,
   "metadata": {},
   "outputs": [
    {
     "ename": "ERROR",
     "evalue": "Error in parse(text = x, srcfile = src): <text>:5:0: unexpected end of input\n3: counts <- table(avg_in_ppt)\n4: barplot(counts, main=\"Car Distribution\",\n  ^\n",
     "output_type": "error",
     "traceback": [
      "Error in parse(text = x, srcfile = src): <text>:5:0: unexpected end of input\n3: counts <- table(avg_in_ppt)\n4: barplot(counts, main=\"Car Distribution\",\n  ^\nTraceback:\n"
     ]
    }
   ],
   "source": [
    "# Graph cm using blue points overlayed by a line \n",
    "\n",
    "counts <- table(avg_in_ppt)\n",
    "barplot(counts, main=\"Car Distribution\","
   ]
  },
  {
   "cell_type": "markdown",
   "metadata": {},
   "source": [
    "__Great!__\n",
    "\n",
    "It turns out though, that the data we have been plotting only takes into account the climatology from __1971 - 2000__. A lot has happened since the year 2000, let's plot the climatology ranging from __1971 - 2019__. Then we can compare if any changes in the average have occurred in the last 19 years. Before we dive into that, let's review: "
   ]
  },
  {
   "cell_type": "markdown",
   "metadata": {},
   "source": [
    "# Brief Review, ANSWER KEY \n",
    "\n",
    "#### Use what you learned to answer the following questions:\n",
    "\n",
    "__Q1)__ List five types of precipitation. Identify the two types of precipitation that are most common in the Boulder area.\n",
    "\n",
    "__ANSWER__\n",
    "> Snow, sleet, rain, hail, drizzle.\n",
    "> Snow and rain are the most common in the Boulder, CO area\n",
    "\n",
    "__Q2)__ According to the 1971 - 2000 climatology, which __three__ months receive the most precipitation?\n",
    "\n",
    "__ANSWER__\n",
    "> According to the climatology, April, May and June (June is just barely).\n"
   ]
  },
  {
   "cell_type": "code",
   "execution_count": null,
   "metadata": {},
   "outputs": [],
   "source": [
    "## Practing your Skills\n",
    "\n",
    "#### For these next questions, follow the instructions below:\n",
    "\n",
    "- The csv file called `mo-precip-1971-2019-w-avg.csv` contains a list of monthly averages (12) per year (1971, 1972, etc), from 1971 - 2019. \n",
    "- The last line in the file contains the average monthly precipitation values for the _entire series,_ in our case, 1971 - 2019.\n",
    "\n",
    "__Q3)__ Using the array code `.shape` (see example above), what are the dimensions of `mo-precip-1971-2019-w-avg.csv`? Keeping in mind those dimensions, how many years are actually represented? \n",
    "\n",
    "- _HINT: Should the last line count as an individual year?_\n"
   ]
  },
  {
   "cell_type": "code",
   "execution_count": null,
   "metadata": {},
   "outputs": [],
   "source": [
    "__Q3)__ __ANSWER__ \n",
    "\n",
    "> Dimensions are (50,12)\n",
    "\n",
    "> 49 years are represented (1971 - 2019)"
   ]
  },
  {
   "cell_type": "markdown",
   "metadata": {},
   "source": [
    "If you were to `print ()` the csv file `mo_precip_1971_2019`, you'd find there are a lot of rows! For this lesson, we __only__ want to work with the average of all the rows, i.e. _only the last line_. Since we are only interested in the last line, let's isolate it.\n",
    "\n",
    "We can isolate the last line from the rest by creating a new `numpy array`"
   ]
  },
  {
   "cell_type": "markdown",
   "metadata": {},
   "source": [
    "### References (in order of appearance)\n",
    "__Rain_Gauge_Image__ \n",
    "Four Season Tools. (2020). Link: https://www.smallfarmtools.com/-367 Accessed: 09/07/20.\n",
    "\n",
    "__Avg_Monthly_Precip_Data__ \n",
    "National Oceanic and Atmospheric Administration. Earth Systems Research Laboratories. (2020). Link: https://psl.noaa.gov/boulder/Boulder.mm.precip.html Accessed: 09/07/20.\n",
    "\n",
    "__Adding Columns to R DataFrame__ Link: https://www.datamentor.io/r-programming/data-frame/ Accessed: 09/26/20.\n",
    "\n",
    "__High_Five_Husky__ \n",
    "Best Life. (2020). Link: https://bestlifeonline.com/adorable-puppy-pictures Accessed: 09/08/20."
   ]
  }
 ],
 "metadata": {
  "kernelspec": {
   "display_name": "R",
   "language": "R",
   "name": "ir"
  },
  "language_info": {
   "codemirror_mode": "r",
   "file_extension": ".r",
   "mimetype": "text/x-r-source",
   "name": "R",
   "pygments_lexer": "r",
   "version": "4.0.2"
  }
 },
 "nbformat": 4,
 "nbformat_minor": 4
}
